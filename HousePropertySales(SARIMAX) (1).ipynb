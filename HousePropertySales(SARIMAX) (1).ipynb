{
  "nbformat": 4,
  "nbformat_minor": 0,
  "metadata": {
    "colab": {
      "name": "HousePropertySales(SARIMAX).ipynb",
      "provenance": [],
      "collapsed_sections": []
    },
    "kernelspec": {
      "name": "python3",
      "display_name": "Python 3"
    },
    "language_info": {
      "name": "python"
    }
  },
  "cells": [
    {
      "cell_type": "markdown",
      "metadata": {
        "id": "VqgB1xhsfjAG"
      },
      "source": [
        "# IMPORTING THE LIBRARIES"
      ]
    },
    {
      "cell_type": "code",
      "metadata": {
        "id": "edxKDqo_d_Lz"
      },
      "source": [
        "import pandas as pd\n",
        "import numpy as np\n",
        "import matplotlib.pyplot as plt\n"
      ],
      "execution_count": null,
      "outputs": []
    },
    {
      "cell_type": "markdown",
      "metadata": {
        "id": "cU0_V2Oyf41Q"
      },
      "source": [
        "# READING THE CSV FILE AND CONVERTING IT FOR ANALYSIS"
      ]
    },
    {
      "cell_type": "code",
      "metadata": {
        "id": "pTtON2TSeJ4S"
      },
      "source": [
        "df = pd.read_csv(\"raw_sales.csv\",index_col=\"datesold\",parse_dates=True)"
      ],
      "execution_count": null,
      "outputs": []
    },
    {
      "cell_type": "code",
      "metadata": {
        "colab": {
          "base_uri": "https://localhost:8080/",
          "height": 234
        },
        "id": "5addFPSiey5z",
        "outputId": "d56f03a3-6678-4e4a-b10f-d87aaa9b5125"
      },
      "source": [
        "df.head()"
      ],
      "execution_count": null,
      "outputs": [
        {
          "output_type": "execute_result",
          "data": {
            "text/html": [
              "<div>\n",
              "<style scoped>\n",
              "    .dataframe tbody tr th:only-of-type {\n",
              "        vertical-align: middle;\n",
              "    }\n",
              "\n",
              "    .dataframe tbody tr th {\n",
              "        vertical-align: top;\n",
              "    }\n",
              "\n",
              "    .dataframe thead th {\n",
              "        text-align: right;\n",
              "    }\n",
              "</style>\n",
              "<table border=\"1\" class=\"dataframe\">\n",
              "  <thead>\n",
              "    <tr style=\"text-align: right;\">\n",
              "      <th></th>\n",
              "      <th>postcode</th>\n",
              "      <th>price</th>\n",
              "      <th>propertyType</th>\n",
              "      <th>bedrooms</th>\n",
              "    </tr>\n",
              "    <tr>\n",
              "      <th>datesold</th>\n",
              "      <th></th>\n",
              "      <th></th>\n",
              "      <th></th>\n",
              "      <th></th>\n",
              "    </tr>\n",
              "  </thead>\n",
              "  <tbody>\n",
              "    <tr>\n",
              "      <th>2007-02-07</th>\n",
              "      <td>2607</td>\n",
              "      <td>525000</td>\n",
              "      <td>house</td>\n",
              "      <td>4</td>\n",
              "    </tr>\n",
              "    <tr>\n",
              "      <th>2007-02-27</th>\n",
              "      <td>2906</td>\n",
              "      <td>290000</td>\n",
              "      <td>house</td>\n",
              "      <td>3</td>\n",
              "    </tr>\n",
              "    <tr>\n",
              "      <th>2007-03-07</th>\n",
              "      <td>2905</td>\n",
              "      <td>328000</td>\n",
              "      <td>house</td>\n",
              "      <td>3</td>\n",
              "    </tr>\n",
              "    <tr>\n",
              "      <th>2007-03-09</th>\n",
              "      <td>2905</td>\n",
              "      <td>380000</td>\n",
              "      <td>house</td>\n",
              "      <td>4</td>\n",
              "    </tr>\n",
              "    <tr>\n",
              "      <th>2007-03-21</th>\n",
              "      <td>2906</td>\n",
              "      <td>310000</td>\n",
              "      <td>house</td>\n",
              "      <td>3</td>\n",
              "    </tr>\n",
              "  </tbody>\n",
              "</table>\n",
              "</div>"
            ],
            "text/plain": [
              "            postcode   price propertyType  bedrooms\n",
              "datesold                                           \n",
              "2007-02-07      2607  525000        house         4\n",
              "2007-02-27      2906  290000        house         3\n",
              "2007-03-07      2905  328000        house         3\n",
              "2007-03-09      2905  380000        house         4\n",
              "2007-03-21      2906  310000        house         3"
            ]
          },
          "metadata": {
            "tags": []
          },
          "execution_count": 137
        }
      ]
    },
    {
      "cell_type": "code",
      "metadata": {
        "colab": {
          "base_uri": "https://localhost:8080/"
        },
        "id": "i-MbP4lSe8qh",
        "outputId": "bcde3ff0-b76b-4cec-89a3-a95efa336872"
      },
      "source": [
        "df.info()"
      ],
      "execution_count": null,
      "outputs": [
        {
          "output_type": "stream",
          "text": [
            "<class 'pandas.core.frame.DataFrame'>\n",
            "DatetimeIndex: 29580 entries, 2007-02-07 to 2019-07-26\n",
            "Data columns (total 4 columns):\n",
            " #   Column        Non-Null Count  Dtype \n",
            "---  ------        --------------  ----- \n",
            " 0   postcode      29580 non-null  int64 \n",
            " 1   price         29580 non-null  int64 \n",
            " 2   propertyType  29580 non-null  object\n",
            " 3   bedrooms      29580 non-null  int64 \n",
            "dtypes: int64(3), object(1)\n",
            "memory usage: 1.1+ MB\n"
          ],
          "name": "stdout"
        }
      ]
    },
    {
      "cell_type": "markdown",
      "metadata": {
        "id": "qwrQmUwKf7f_"
      },
      "source": [
        "# ANALYSING DATA"
      ]
    },
    {
      "cell_type": "code",
      "metadata": {
        "colab": {
          "base_uri": "https://localhost:8080/"
        },
        "id": "-kK7b5L4eiaq",
        "outputId": "8736ce07-eacc-4715-bf16-5ed07ad28f1e"
      },
      "source": [
        "len(df['postcode'].unique())"
      ],
      "execution_count": null,
      "outputs": [
        {
          "output_type": "execute_result",
          "data": {
            "text/plain": [
              "27"
            ]
          },
          "metadata": {
            "tags": []
          },
          "execution_count": 139
        }
      ]
    },
    {
      "cell_type": "code",
      "metadata": {
        "colab": {
          "base_uri": "https://localhost:8080/"
        },
        "id": "U3Y52YtefVxR",
        "outputId": "4ef400a3-8e24-4b33-b52d-d3d2d2061e0d"
      },
      "source": [
        "df['propertyType'].unique()"
      ],
      "execution_count": null,
      "outputs": [
        {
          "output_type": "execute_result",
          "data": {
            "text/plain": [
              "array(['house', 'unit'], dtype=object)"
            ]
          },
          "metadata": {
            "tags": []
          },
          "execution_count": 140
        }
      ]
    },
    {
      "cell_type": "markdown",
      "metadata": {
        "id": "DJ9XsRMggHJs"
      },
      "source": [
        "# PROPERTY TYPE"
      ]
    },
    {
      "cell_type": "code",
      "metadata": {
        "id": "_yYqxJIugbFg"
      },
      "source": [
        "housetype = [len(df[df['propertyType']=='house']),len(df[df['propertyType']=='unit'])]"
      ],
      "execution_count": null,
      "outputs": []
    },
    {
      "cell_type": "code",
      "metadata": {
        "colab": {
          "base_uri": "https://localhost:8080/"
        },
        "id": "L080JT-zgvp3",
        "outputId": "82d6c474-902e-4925-aa49-a81bdf1af79d"
      },
      "source": [
        "housetype"
      ],
      "execution_count": null,
      "outputs": [
        {
          "output_type": "execute_result",
          "data": {
            "text/plain": [
              "[24552, 5028]"
            ]
          },
          "metadata": {
            "tags": []
          },
          "execution_count": 142
        }
      ]
    },
    {
      "cell_type": "code",
      "metadata": {
        "colab": {
          "base_uri": "https://localhost:8080/"
        },
        "id": "zk6EUZ2Sg0Cp",
        "outputId": "70760409-c7a0-4331-d5d2-a0cbbe305b6d"
      },
      "source": [
        "df['propertyType']"
      ],
      "execution_count": null,
      "outputs": [
        {
          "output_type": "execute_result",
          "data": {
            "text/plain": [
              "datesold\n",
              "2007-02-07    house\n",
              "2007-02-27    house\n",
              "2007-03-07    house\n",
              "2007-03-09    house\n",
              "2007-03-21    house\n",
              "              ...  \n",
              "2019-07-25     unit\n",
              "2019-07-25     unit\n",
              "2019-07-26     unit\n",
              "2019-07-26     unit\n",
              "2019-07-26     unit\n",
              "Name: propertyType, Length: 29580, dtype: object"
            ]
          },
          "metadata": {
            "tags": []
          },
          "execution_count": 143
        }
      ]
    },
    {
      "cell_type": "code",
      "metadata": {
        "colab": {
          "base_uri": "https://localhost:8080/",
          "height": 555
        },
        "id": "1d8lF7SKf-Ff",
        "outputId": "e30a5384-1f95-4f98-d0d9-22041d93beeb"
      },
      "source": [
        "plt.pie(housetype,labels = ['House','Unit'],radius=3);"
      ],
      "execution_count": null,
      "outputs": [
        {
          "output_type": "display_data",
          "data": {
            "image/png": "[encoded data removed]",
            "text/plain": [
              "<Figure size 432x288 with 1 Axes>"
            ]
          },
          "metadata": {
            "tags": []
          }
        }
      ]
    },
    {
      "cell_type": "markdown",
      "metadata": {
        "id": "AuX0QlSoiZP-"
      },
      "source": [
        "MOST "
      ]
    },
    {
      "cell_type": "markdown",
      "metadata": {
        "id": "P-AQaerdh1S0"
      },
      "source": [
        "# DIFFERENT POSTAL CODES"
      ]
    },
    {
      "cell_type": "code",
      "metadata": {
        "colab": {
          "base_uri": "https://localhost:8080/",
          "height": 632
        },
        "id": "VxYGVNUbhXOA",
        "outputId": "cb78bad7-1aa8-41fd-9b73-0361afd84418"
      },
      "source": [
        "df['postcode'].value_counts().plot(kind='pie',radius=3)"
      ],
      "execution_count": null,
      "outputs": [
        {
          "output_type": "execute_result",
          "data": {
            "text/plain": [
              "<matplotlib.axes._subplots.AxesSubplot at 0x7febbc465b90>"
            ]
          },
          "metadata": {
            "tags": []
          },
          "execution_count": 145
        },
        {
          "output_type": "display_data",
          "data": {
            "image/png": "[encoded data removed]",
            "text/plain": [
              "<Figure size 432x288 with 1 Axes>"
            ]
          },
          "metadata": {
            "tags": []
          }
        }
      ]
    },
    {
      "cell_type": "markdown",
      "metadata": {
        "id": "izqWjjIuh84W"
      },
      "source": [
        "# DIFFERENT BEDROOM NO"
      ]
    },
    {
      "cell_type": "code",
      "metadata": {
        "colab": {
          "base_uri": "https://localhost:8080/",
          "height": 594
        },
        "id": "s5fY7eVMiL2H",
        "outputId": "bd2f8fc6-4332-45f7-d99b-32f130b8e147"
      },
      "source": [
        "df['bedrooms'].value_counts().plot(kind='pie',radius=3)"
      ],
      "execution_count": null,
      "outputs": [
        {
          "output_type": "execute_result",
          "data": {
            "text/plain": [
              "<matplotlib.axes._subplots.AxesSubplot at 0x7febbc135cd0>"
            ]
          },
          "metadata": {
            "tags": []
          },
          "execution_count": 146
        },
        {
          "output_type": "display_data",
          "data": {
            "image/png": "[encoded data removed]",
            "text/plain": [
              "<Figure size 432x288 with 1 Axes>"
            ]
          },
          "metadata": {
            "tags": []
          }
        }
      ]
    },
    {
      "cell_type": "code",
      "metadata": {
        "colab": {
          "base_uri": "https://localhost:8080/",
          "height": 911
        },
        "id": "Hr70ADuwjO44",
        "outputId": "67a4a55c-4a69-40a6-af82-85eca6f81c36"
      },
      "source": [
        "df.groupby(by=df['postcode']).mean()\n"
      ],
      "execution_count": null,
      "outputs": [
        {
          "output_type": "execute_result",
          "data": {
            "text/html": [
              "<div>\n",
              "<style scoped>\n",
              "    .dataframe tbody tr th:only-of-type {\n",
              "        vertical-align: middle;\n",
              "    }\n",
              "\n",
              "    .dataframe tbody tr th {\n",
              "        vertical-align: top;\n",
              "    }\n",
              "\n",
              "    .dataframe thead th {\n",
              "        text-align: right;\n",
              "    }\n",
              "</style>\n",
              "<table border=\"1\" class=\"dataframe\">\n",
              "  <thead>\n",
              "    <tr style=\"text-align: right;\">\n",
              "      <th></th>\n",
              "      <th>price</th>\n",
              "      <th>bedrooms</th>\n",
              "    </tr>\n",
              "    <tr>\n",
              "      <th>postcode</th>\n",
              "      <th></th>\n",
              "      <th></th>\n",
              "    </tr>\n",
              "  </thead>\n",
              "  <tbody>\n",
              "    <tr>\n",
              "      <th>2600</th>\n",
              "      <td>1.028204e+06</td>\n",
              "      <td>3.007886</td>\n",
              "    </tr>\n",
              "    <tr>\n",
              "      <th>2601</th>\n",
              "      <td>5.404449e+05</td>\n",
              "      <td>1.619231</td>\n",
              "    </tr>\n",
              "    <tr>\n",
              "      <th>2602</th>\n",
              "      <td>6.957188e+05</td>\n",
              "      <td>2.982712</td>\n",
              "    </tr>\n",
              "    <tr>\n",
              "      <th>2603</th>\n",
              "      <td>1.028642e+06</td>\n",
              "      <td>3.013665</td>\n",
              "    </tr>\n",
              "    <tr>\n",
              "      <th>2604</th>\n",
              "      <td>6.476409e+05</td>\n",
              "      <td>2.461248</td>\n",
              "    </tr>\n",
              "    <tr>\n",
              "      <th>2605</th>\n",
              "      <td>7.861751e+05</td>\n",
              "      <td>3.391699</td>\n",
              "    </tr>\n",
              "    <tr>\n",
              "      <th>2606</th>\n",
              "      <td>5.698613e+05</td>\n",
              "      <td>2.629742</td>\n",
              "    </tr>\n",
              "    <tr>\n",
              "      <th>2607</th>\n",
              "      <td>6.947164e+05</td>\n",
              "      <td>3.448598</td>\n",
              "    </tr>\n",
              "    <tr>\n",
              "      <th>2609</th>\n",
              "      <td>1.447000e+05</td>\n",
              "      <td>1.800000</td>\n",
              "    </tr>\n",
              "    <tr>\n",
              "      <th>2611</th>\n",
              "      <td>6.421450e+05</td>\n",
              "      <td>3.520923</td>\n",
              "    </tr>\n",
              "    <tr>\n",
              "      <th>2612</th>\n",
              "      <td>6.454111e+05</td>\n",
              "      <td>2.232231</td>\n",
              "    </tr>\n",
              "    <tr>\n",
              "      <th>2614</th>\n",
              "      <td>6.091664e+05</td>\n",
              "      <td>3.318526</td>\n",
              "    </tr>\n",
              "    <tr>\n",
              "      <th>2615</th>\n",
              "      <td>5.062134e+05</td>\n",
              "      <td>3.426248</td>\n",
              "    </tr>\n",
              "    <tr>\n",
              "      <th>2616</th>\n",
              "      <td>4.492727e+05</td>\n",
              "      <td>2.181818</td>\n",
              "    </tr>\n",
              "    <tr>\n",
              "      <th>2617</th>\n",
              "      <td>5.266716e+05</td>\n",
              "      <td>2.979196</td>\n",
              "    </tr>\n",
              "    <tr>\n",
              "      <th>2618</th>\n",
              "      <td>1.081111e+06</td>\n",
              "      <td>3.888889</td>\n",
              "    </tr>\n",
              "    <tr>\n",
              "      <th>2620</th>\n",
              "      <td>2.872982e+05</td>\n",
              "      <td>1.692308</td>\n",
              "    </tr>\n",
              "    <tr>\n",
              "      <th>2900</th>\n",
              "      <td>4.174579e+05</td>\n",
              "      <td>2.256579</td>\n",
              "    </tr>\n",
              "    <tr>\n",
              "      <th>2902</th>\n",
              "      <td>5.444455e+05</td>\n",
              "      <td>3.525604</td>\n",
              "    </tr>\n",
              "    <tr>\n",
              "      <th>2903</th>\n",
              "      <td>5.434755e+05</td>\n",
              "      <td>3.570370</td>\n",
              "    </tr>\n",
              "    <tr>\n",
              "      <th>2904</th>\n",
              "      <td>5.993130e+05</td>\n",
              "      <td>3.742111</td>\n",
              "    </tr>\n",
              "    <tr>\n",
              "      <th>2905</th>\n",
              "      <td>5.057797e+05</td>\n",
              "      <td>3.445772</td>\n",
              "    </tr>\n",
              "    <tr>\n",
              "      <th>2906</th>\n",
              "      <td>5.112580e+05</td>\n",
              "      <td>3.474390</td>\n",
              "    </tr>\n",
              "    <tr>\n",
              "      <th>2911</th>\n",
              "      <td>7.247956e+05</td>\n",
              "      <td>3.542169</td>\n",
              "    </tr>\n",
              "    <tr>\n",
              "      <th>2912</th>\n",
              "      <td>5.219604e+05</td>\n",
              "      <td>2.939880</td>\n",
              "    </tr>\n",
              "    <tr>\n",
              "      <th>2913</th>\n",
              "      <td>5.894083e+05</td>\n",
              "      <td>3.483972</td>\n",
              "    </tr>\n",
              "    <tr>\n",
              "      <th>2914</th>\n",
              "      <td>6.234308e+05</td>\n",
              "      <td>3.727181</td>\n",
              "    </tr>\n",
              "  </tbody>\n",
              "</table>\n",
              "</div>"
            ],
            "text/plain": [
              "                 price  bedrooms\n",
              "postcode                        \n",
              "2600      1.028204e+06  3.007886\n",
              "2601      5.404449e+05  1.619231\n",
              "2602      6.957188e+05  2.982712\n",
              "2603      1.028642e+06  3.013665\n",
              "2604      6.476409e+05  2.461248\n",
              "2605      7.861751e+05  3.391699\n",
              "2606      5.698613e+05  2.629742\n",
              "2607      6.947164e+05  3.448598\n",
              "2609      1.447000e+05  1.800000\n",
              "2611      6.421450e+05  3.520923\n",
              "2612      6.454111e+05  2.232231\n",
              "2614      6.091664e+05  3.318526\n",
              "2615      5.062134e+05  3.426248\n",
              "2616      4.492727e+05  2.181818\n",
              "2617      5.266716e+05  2.979196\n",
              "2618      1.081111e+06  3.888889\n",
              "2620      2.872982e+05  1.692308\n",
              "2900      4.174579e+05  2.256579\n",
              "2902      5.444455e+05  3.525604\n",
              "2903      5.434755e+05  3.570370\n",
              "2904      5.993130e+05  3.742111\n",
              "2905      5.057797e+05  3.445772\n",
              "2906      5.112580e+05  3.474390\n",
              "2911      7.247956e+05  3.542169\n",
              "2912      5.219604e+05  2.939880\n",
              "2913      5.894083e+05  3.483972\n",
              "2914      6.234308e+05  3.727181"
            ]
          },
          "metadata": {
            "tags": []
          },
          "execution_count": 147
        }
      ]
    },
    {
      "cell_type": "code",
      "metadata": {
        "colab": {
          "base_uri": "https://localhost:8080/",
          "height": 911
        },
        "id": "yXGtWWsZkF3g",
        "outputId": "4613e311-9684-4d13-b5c7-fdb8372eb305"
      },
      "source": [
        "df.groupby(by=df['postcode']).std()"
      ],
      "execution_count": null,
      "outputs": [
        {
          "output_type": "execute_result",
          "data": {
            "text/html": [
              "<div>\n",
              "<style scoped>\n",
              "    .dataframe tbody tr th:only-of-type {\n",
              "        vertical-align: middle;\n",
              "    }\n",
              "\n",
              "    .dataframe tbody tr th {\n",
              "        vertical-align: top;\n",
              "    }\n",
              "\n",
              "    .dataframe thead th {\n",
              "        text-align: right;\n",
              "    }\n",
              "</style>\n",
              "<table border=\"1\" class=\"dataframe\">\n",
              "  <thead>\n",
              "    <tr style=\"text-align: right;\">\n",
              "      <th></th>\n",
              "      <th>price</th>\n",
              "      <th>bedrooms</th>\n",
              "    </tr>\n",
              "    <tr>\n",
              "      <th>postcode</th>\n",
              "      <th></th>\n",
              "      <th></th>\n",
              "    </tr>\n",
              "  </thead>\n",
              "  <tbody>\n",
              "    <tr>\n",
              "      <th>2600</th>\n",
              "      <td>532341.574941</td>\n",
              "      <td>1.134662</td>\n",
              "    </tr>\n",
              "    <tr>\n",
              "      <th>2601</th>\n",
              "      <td>200038.017229</td>\n",
              "      <td>0.672986</td>\n",
              "    </tr>\n",
              "    <tr>\n",
              "      <th>2602</th>\n",
              "      <td>283603.446827</td>\n",
              "      <td>0.962443</td>\n",
              "    </tr>\n",
              "    <tr>\n",
              "      <th>2603</th>\n",
              "      <td>704095.642364</td>\n",
              "      <td>1.204701</td>\n",
              "    </tr>\n",
              "    <tr>\n",
              "      <th>2604</th>\n",
              "      <td>289524.537468</td>\n",
              "      <td>0.873726</td>\n",
              "    </tr>\n",
              "    <tr>\n",
              "      <th>2605</th>\n",
              "      <td>278039.029471</td>\n",
              "      <td>0.883990</td>\n",
              "    </tr>\n",
              "    <tr>\n",
              "      <th>2606</th>\n",
              "      <td>331599.187967</td>\n",
              "      <td>1.125591</td>\n",
              "    </tr>\n",
              "    <tr>\n",
              "      <th>2607</th>\n",
              "      <td>253509.747179</td>\n",
              "      <td>0.969496</td>\n",
              "    </tr>\n",
              "    <tr>\n",
              "      <th>2609</th>\n",
              "      <td>50662.938459</td>\n",
              "      <td>0.632456</td>\n",
              "    </tr>\n",
              "    <tr>\n",
              "      <th>2611</th>\n",
              "      <td>297103.528276</td>\n",
              "      <td>0.775768</td>\n",
              "    </tr>\n",
              "    <tr>\n",
              "      <th>2612</th>\n",
              "      <td>371186.671787</td>\n",
              "      <td>1.081364</td>\n",
              "    </tr>\n",
              "    <tr>\n",
              "      <th>2614</th>\n",
              "      <td>223420.015160</td>\n",
              "      <td>0.856638</td>\n",
              "    </tr>\n",
              "    <tr>\n",
              "      <th>2615</th>\n",
              "      <td>113390.533804</td>\n",
              "      <td>0.703448</td>\n",
              "    </tr>\n",
              "    <tr>\n",
              "      <th>2616</th>\n",
              "      <td>146429.396577</td>\n",
              "      <td>0.750757</td>\n",
              "    </tr>\n",
              "    <tr>\n",
              "      <th>2617</th>\n",
              "      <td>190065.939867</td>\n",
              "      <td>1.075900</td>\n",
              "    </tr>\n",
              "    <tr>\n",
              "      <th>2618</th>\n",
              "      <td>217683.511344</td>\n",
              "      <td>0.781736</td>\n",
              "    </tr>\n",
              "    <tr>\n",
              "      <th>2620</th>\n",
              "      <td>209500.580441</td>\n",
              "      <td>1.049542</td>\n",
              "    </tr>\n",
              "    <tr>\n",
              "      <th>2900</th>\n",
              "      <td>78484.060073</td>\n",
              "      <td>0.825879</td>\n",
              "    </tr>\n",
              "    <tr>\n",
              "      <th>2902</th>\n",
              "      <td>184598.749764</td>\n",
              "      <td>0.653862</td>\n",
              "    </tr>\n",
              "    <tr>\n",
              "      <th>2903</th>\n",
              "      <td>113283.476709</td>\n",
              "      <td>0.659790</td>\n",
              "    </tr>\n",
              "    <tr>\n",
              "      <th>2904</th>\n",
              "      <td>127683.517522</td>\n",
              "      <td>0.651695</td>\n",
              "    </tr>\n",
              "    <tr>\n",
              "      <th>2905</th>\n",
              "      <td>108621.234980</td>\n",
              "      <td>0.636959</td>\n",
              "    </tr>\n",
              "    <tr>\n",
              "      <th>2906</th>\n",
              "      <td>130287.119571</td>\n",
              "      <td>0.639805</td>\n",
              "    </tr>\n",
              "    <tr>\n",
              "      <th>2911</th>\n",
              "      <td>245166.513651</td>\n",
              "      <td>0.949973</td>\n",
              "    </tr>\n",
              "    <tr>\n",
              "      <th>2912</th>\n",
              "      <td>283098.998368</td>\n",
              "      <td>1.185756</td>\n",
              "    </tr>\n",
              "    <tr>\n",
              "      <th>2913</th>\n",
              "      <td>202038.671384</td>\n",
              "      <td>0.826536</td>\n",
              "    </tr>\n",
              "    <tr>\n",
              "      <th>2914</th>\n",
              "      <td>166391.751613</td>\n",
              "      <td>0.721920</td>\n",
              "    </tr>\n",
              "  </tbody>\n",
              "</table>\n",
              "</div>"
            ],
            "text/plain": [
              "                  price  bedrooms\n",
              "postcode                         \n",
              "2600      532341.574941  1.134662\n",
              "2601      200038.017229  0.672986\n",
              "2602      283603.446827  0.962443\n",
              "2603      704095.642364  1.204701\n",
              "2604      289524.537468  0.873726\n",
              "2605      278039.029471  0.883990\n",
              "2606      331599.187967  1.125591\n",
              "2607      253509.747179  0.969496\n",
              "2609       50662.938459  0.632456\n",
              "2611      297103.528276  0.775768\n",
              "2612      371186.671787  1.081364\n",
              "2614      223420.015160  0.856638\n",
              "2615      113390.533804  0.703448\n",
              "2616      146429.396577  0.750757\n",
              "2617      190065.939867  1.075900\n",
              "2618      217683.511344  0.781736\n",
              "2620      209500.580441  1.049542\n",
              "2900       78484.060073  0.825879\n",
              "2902      184598.749764  0.653862\n",
              "2903      113283.476709  0.659790\n",
              "2904      127683.517522  0.651695\n",
              "2905      108621.234980  0.636959\n",
              "2906      130287.119571  0.639805\n",
              "2911      245166.513651  0.949973\n",
              "2912      283098.998368  1.185756\n",
              "2913      202038.671384  0.826536\n",
              "2914      166391.751613  0.721920"
            ]
          },
          "metadata": {
            "tags": []
          },
          "execution_count": 148
        }
      ]
    },
    {
      "cell_type": "markdown",
      "metadata": {
        "id": "RxPJs-gukoLC"
      },
      "source": [
        "# VERY HIGH STD IN PROPERTY PRICES FOR A GIVEN POSTAL CODE WITH MEAN OF MOST POSTAL CODES AROUND 5 X 10^5 (WE MAY DROP IT)"
      ]
    },
    {
      "cell_type": "code",
      "metadata": {
        "id": "xDsQ81muk6H2"
      },
      "source": [
        ""
      ],
      "execution_count": null,
      "outputs": []
    },
    {
      "cell_type": "code",
      "metadata": {
        "colab": {
          "base_uri": "https://localhost:8080/",
          "height": 447
        },
        "id": "vwpcUcLWjwjw",
        "outputId": "fe7a20e0-0391-4b0d-eba4-5f355974d1ee"
      },
      "source": [
        "df"
      ],
      "execution_count": null,
      "outputs": [
        {
          "output_type": "execute_result",
          "data": {
            "text/html": [
              "<div>\n",
              "<style scoped>\n",
              "    .dataframe tbody tr th:only-of-type {\n",
              "        vertical-align: middle;\n",
              "    }\n",
              "\n",
              "    .dataframe tbody tr th {\n",
              "        vertical-align: top;\n",
              "    }\n",
              "\n",
              "    .dataframe thead th {\n",
              "        text-align: right;\n",
              "    }\n",
              "</style>\n",
              "<table border=\"1\" class=\"dataframe\">\n",
              "  <thead>\n",
              "    <tr style=\"text-align: right;\">\n",
              "      <th></th>\n",
              "      <th>postcode</th>\n",
              "      <th>price</th>\n",
              "      <th>propertyType</th>\n",
              "      <th>bedrooms</th>\n",
              "    </tr>\n",
              "    <tr>\n",
              "      <th>datesold</th>\n",
              "      <th></th>\n",
              "      <th></th>\n",
              "      <th></th>\n",
              "      <th></th>\n",
              "    </tr>\n",
              "  </thead>\n",
              "  <tbody>\n",
              "    <tr>\n",
              "      <th>2007-02-07</th>\n",
              "      <td>2607</td>\n",
              "      <td>525000</td>\n",
              "      <td>house</td>\n",
              "      <td>4</td>\n",
              "    </tr>\n",
              "    <tr>\n",
              "      <th>2007-02-27</th>\n",
              "      <td>2906</td>\n",
              "      <td>290000</td>\n",
              "      <td>house</td>\n",
              "      <td>3</td>\n",
              "    </tr>\n",
              "    <tr>\n",
              "      <th>2007-03-07</th>\n",
              "      <td>2905</td>\n",
              "      <td>328000</td>\n",
              "      <td>house</td>\n",
              "      <td>3</td>\n",
              "    </tr>\n",
              "    <tr>\n",
              "      <th>2007-03-09</th>\n",
              "      <td>2905</td>\n",
              "      <td>380000</td>\n",
              "      <td>house</td>\n",
              "      <td>4</td>\n",
              "    </tr>\n",
              "    <tr>\n",
              "      <th>2007-03-21</th>\n",
              "      <td>2906</td>\n",
              "      <td>310000</td>\n",
              "      <td>house</td>\n",
              "      <td>3</td>\n",
              "    </tr>\n",
              "    <tr>\n",
              "      <th>...</th>\n",
              "      <td>...</td>\n",
              "      <td>...</td>\n",
              "      <td>...</td>\n",
              "      <td>...</td>\n",
              "    </tr>\n",
              "    <tr>\n",
              "      <th>2019-07-25</th>\n",
              "      <td>2900</td>\n",
              "      <td>500000</td>\n",
              "      <td>unit</td>\n",
              "      <td>3</td>\n",
              "    </tr>\n",
              "    <tr>\n",
              "      <th>2019-07-25</th>\n",
              "      <td>2612</td>\n",
              "      <td>560000</td>\n",
              "      <td>unit</td>\n",
              "      <td>2</td>\n",
              "    </tr>\n",
              "    <tr>\n",
              "      <th>2019-07-26</th>\n",
              "      <td>2912</td>\n",
              "      <td>464950</td>\n",
              "      <td>unit</td>\n",
              "      <td>2</td>\n",
              "    </tr>\n",
              "    <tr>\n",
              "      <th>2019-07-26</th>\n",
              "      <td>2601</td>\n",
              "      <td>589000</td>\n",
              "      <td>unit</td>\n",
              "      <td>2</td>\n",
              "    </tr>\n",
              "    <tr>\n",
              "      <th>2019-07-26</th>\n",
              "      <td>2612</td>\n",
              "      <td>775000</td>\n",
              "      <td>unit</td>\n",
              "      <td>2</td>\n",
              "    </tr>\n",
              "  </tbody>\n",
              "</table>\n",
              "<p>29580 rows × 4 columns</p>\n",
              "</div>"
            ],
            "text/plain": [
              "            postcode   price propertyType  bedrooms\n",
              "datesold                                           \n",
              "2007-02-07      2607  525000        house         4\n",
              "2007-02-27      2906  290000        house         3\n",
              "2007-03-07      2905  328000        house         3\n",
              "2007-03-09      2905  380000        house         4\n",
              "2007-03-21      2906  310000        house         3\n",
              "...              ...     ...          ...       ...\n",
              "2019-07-25      2900  500000         unit         3\n",
              "2019-07-25      2612  560000         unit         2\n",
              "2019-07-26      2912  464950         unit         2\n",
              "2019-07-26      2601  589000         unit         2\n",
              "2019-07-26      2612  775000         unit         2\n",
              "\n",
              "[29580 rows x 4 columns]"
            ]
          },
          "metadata": {
            "tags": []
          },
          "execution_count": 149
        }
      ]
    },
    {
      "cell_type": "code",
      "metadata": {
        "id": "X1N23HsIjcq0"
      },
      "source": [
        "df.drop(['postcode'],axis=1,inplace=True)"
      ],
      "execution_count": null,
      "outputs": []
    },
    {
      "cell_type": "code",
      "metadata": {
        "colab": {
          "base_uri": "https://localhost:8080/",
          "height": 447
        },
        "id": "Urn7jfA9lAOK",
        "outputId": "042504fd-3fc1-4cf6-eec9-54d77b140c6f"
      },
      "source": [
        "df"
      ],
      "execution_count": null,
      "outputs": [
        {
          "output_type": "execute_result",
          "data": {
            "text/html": [
              "<div>\n",
              "<style scoped>\n",
              "    .dataframe tbody tr th:only-of-type {\n",
              "        vertical-align: middle;\n",
              "    }\n",
              "\n",
              "    .dataframe tbody tr th {\n",
              "        vertical-align: top;\n",
              "    }\n",
              "\n",
              "    .dataframe thead th {\n",
              "        text-align: right;\n",
              "    }\n",
              "</style>\n",
              "<table border=\"1\" class=\"dataframe\">\n",
              "  <thead>\n",
              "    <tr style=\"text-align: right;\">\n",
              "      <th></th>\n",
              "      <th>price</th>\n",
              "      <th>propertyType</th>\n",
              "      <th>bedrooms</th>\n",
              "    </tr>\n",
              "    <tr>\n",
              "      <th>datesold</th>\n",
              "      <th></th>\n",
              "      <th></th>\n",
              "      <th></th>\n",
              "    </tr>\n",
              "  </thead>\n",
              "  <tbody>\n",
              "    <tr>\n",
              "      <th>2007-02-07</th>\n",
              "      <td>525000</td>\n",
              "      <td>house</td>\n",
              "      <td>4</td>\n",
              "    </tr>\n",
              "    <tr>\n",
              "      <th>2007-02-27</th>\n",
              "      <td>290000</td>\n",
              "      <td>house</td>\n",
              "      <td>3</td>\n",
              "    </tr>\n",
              "    <tr>\n",
              "      <th>2007-03-07</th>\n",
              "      <td>328000</td>\n",
              "      <td>house</td>\n",
              "      <td>3</td>\n",
              "    </tr>\n",
              "    <tr>\n",
              "      <th>2007-03-09</th>\n",
              "      <td>380000</td>\n",
              "      <td>house</td>\n",
              "      <td>4</td>\n",
              "    </tr>\n",
              "    <tr>\n",
              "      <th>2007-03-21</th>\n",
              "      <td>310000</td>\n",
              "      <td>house</td>\n",
              "      <td>3</td>\n",
              "    </tr>\n",
              "    <tr>\n",
              "      <th>...</th>\n",
              "      <td>...</td>\n",
              "      <td>...</td>\n",
              "      <td>...</td>\n",
              "    </tr>\n",
              "    <tr>\n",
              "      <th>2019-07-25</th>\n",
              "      <td>500000</td>\n",
              "      <td>unit</td>\n",
              "      <td>3</td>\n",
              "    </tr>\n",
              "    <tr>\n",
              "      <th>2019-07-25</th>\n",
              "      <td>560000</td>\n",
              "      <td>unit</td>\n",
              "      <td>2</td>\n",
              "    </tr>\n",
              "    <tr>\n",
              "      <th>2019-07-26</th>\n",
              "      <td>464950</td>\n",
              "      <td>unit</td>\n",
              "      <td>2</td>\n",
              "    </tr>\n",
              "    <tr>\n",
              "      <th>2019-07-26</th>\n",
              "      <td>589000</td>\n",
              "      <td>unit</td>\n",
              "      <td>2</td>\n",
              "    </tr>\n",
              "    <tr>\n",
              "      <th>2019-07-26</th>\n",
              "      <td>775000</td>\n",
              "      <td>unit</td>\n",
              "      <td>2</td>\n",
              "    </tr>\n",
              "  </tbody>\n",
              "</table>\n",
              "<p>29580 rows × 3 columns</p>\n",
              "</div>"
            ],
            "text/plain": [
              "             price propertyType  bedrooms\n",
              "datesold                                 \n",
              "2007-02-07  525000        house         4\n",
              "2007-02-27  290000        house         3\n",
              "2007-03-07  328000        house         3\n",
              "2007-03-09  380000        house         4\n",
              "2007-03-21  310000        house         3\n",
              "...            ...          ...       ...\n",
              "2019-07-25  500000         unit         3\n",
              "2019-07-25  560000         unit         2\n",
              "2019-07-26  464950         unit         2\n",
              "2019-07-26  589000         unit         2\n",
              "2019-07-26  775000         unit         2\n",
              "\n",
              "[29580 rows x 3 columns]"
            ]
          },
          "metadata": {
            "tags": []
          },
          "execution_count": 151
        }
      ]
    },
    {
      "cell_type": "markdown",
      "metadata": {
        "id": "GxT3BcPMi6iu"
      },
      "source": [
        "MOST OF THE PROPERTIES ARE 3/4 BEDROOM"
      ]
    },
    {
      "cell_type": "markdown",
      "metadata": {
        "id": "FEGmdmGajCf7"
      },
      "source": [
        "# ANALYSING CORRELATIONS "
      ]
    },
    {
      "cell_type": "markdown",
      "metadata": {
        "id": "KEWVJubClJim"
      },
      "source": [
        "## PRICE VS BEDROOMS"
      ]
    },
    {
      "cell_type": "code",
      "metadata": {
        "colab": {
          "base_uri": "https://localhost:8080/",
          "height": 293
        },
        "id": "yG8cEoPGjFD9",
        "outputId": "2765ee05-ac79-4ebb-af27-73c102ba62ac"
      },
      "source": [
        "df.groupby(by=df['bedrooms']).mean().plot(kind='bar')"
      ],
      "execution_count": null,
      "outputs": [
        {
          "output_type": "execute_result",
          "data": {
            "text/plain": [
              "<matplotlib.axes._subplots.AxesSubplot at 0x7febbbed3510>"
            ]
          },
          "metadata": {
            "tags": []
          },
          "execution_count": 152
        },
        {
          "output_type": "display_data",
          "data": {
            "image/png": "[encoded data removed]",
            "text/plain": [
              "<Figure size 432x288 with 1 Axes>"
            ]
          },
          "metadata": {
            "tags": [],
            "needs_background": "light"
          }
        }
      ]
    },
    {
      "cell_type": "code",
      "metadata": {
        "colab": {
          "base_uri": "https://localhost:8080/",
          "height": 493
        },
        "id": "p8UQbGhb5HCV",
        "outputId": "52ced5ad-9403-436f-b906-a5c8787e1700"
      },
      "source": [
        "ax= df[df['bedrooms']==1]['price'].plot(figsize=(13,8))\n",
        "df[df['bedrooms']==2]['price'].plot(figsize=(13,8),ax=ax)\n",
        "df[df['bedrooms']==3]['price'].plot(figsize=(13,8),ax=ax)\n",
        "df[df['bedrooms']==4]['price'].plot(figsize=(13,8),ax=ax)\n",
        "df[df['bedrooms']==5]['price'].plot(figsize=(13,8),ax=ax)\n",
        "ax.legend(['1bedroom','2bedroom','3bedroom','4bedroom','5bedroom'])\n"
      ],
      "execution_count": null,
      "outputs": [
        {
          "output_type": "execute_result",
          "data": {
            "text/plain": [
              "<matplotlib.legend.Legend at 0x7febbc0557d0>"
            ]
          },
          "metadata": {
            "tags": []
          },
          "execution_count": 199
        },
        {
          "output_type": "display_data",
          "data": {
            "image/png": "[encoded data removed]",
            "text/plain": [
              "<Figure size 936x576 with 1 Axes>"
            ]
          },
          "metadata": {
            "tags": [],
            "needs_background": "light"
          }
        }
      ]
    },
    {
      "cell_type": "code",
      "metadata": {
        "colab": {
          "base_uri": "https://localhost:8080/"
        },
        "id": "BA1DDiOzm6yQ",
        "outputId": "32d01954-dea0-45bf-c6b6-37ab893252d4"
      },
      "source": [
        "df['price'].corr(df['bedrooms'])"
      ],
      "execution_count": null,
      "outputs": [
        {
          "output_type": "execute_result",
          "data": {
            "text/plain": [
              "0.48421174303285086"
            ]
          },
          "metadata": {
            "tags": []
          },
          "execution_count": 154
        }
      ]
    },
    {
      "cell_type": "markdown",
      "metadata": {
        "id": "yKbUB4U3nF9f"
      },
      "source": [
        "GENERALLLY MORE NO OF BEDROOMS => MORE PRICE"
      ]
    },
    {
      "cell_type": "markdown",
      "metadata": {
        "id": "R0Ci19KUnM3-"
      },
      "source": [
        "# PRICE VS HOUSE TYPE"
      ]
    },
    {
      "cell_type": "markdown",
      "metadata": {
        "id": "PKNGI3Z-no1s"
      },
      "source": [
        "## ENCODING HOUSE (LABEL ENCODING)"
      ]
    },
    {
      "cell_type": "code",
      "metadata": {
        "id": "If7Dn6qqnfSt"
      },
      "source": [
        "from sklearn import preprocessing\n",
        "le = preprocessing.LabelEncoder()"
      ],
      "execution_count": null,
      "outputs": []
    },
    {
      "cell_type": "code",
      "metadata": {
        "id": "AqhWYE4xnuO0"
      },
      "source": [
        "df['propertyType']=le.fit_transform(df['propertyType'])"
      ],
      "execution_count": null,
      "outputs": []
    },
    {
      "cell_type": "code",
      "metadata": {
        "colab": {
          "base_uri": "https://localhost:8080/",
          "height": 293
        },
        "id": "zb6g7DrfnLLW",
        "outputId": "d328d99f-26c6-455f-9866-42a83abfd6bd"
      },
      "source": [
        "df.groupby(by=df['propertyType']).mean().plot(kind='bar')"
      ],
      "execution_count": null,
      "outputs": [
        {
          "output_type": "execute_result",
          "data": {
            "text/plain": [
              "<matplotlib.axes._subplots.AxesSubplot at 0x7febbbc3c910>"
            ]
          },
          "metadata": {
            "tags": []
          },
          "execution_count": 157
        },
        {
          "output_type": "display_data",
          "data": {
            "image/png": "[encoded data removed]",
            "text/plain": [
              "<Figure size 432x288 with 1 Axes>"
            ]
          },
          "metadata": {
            "tags": [],
            "needs_background": "light"
          }
        }
      ]
    },
    {
      "cell_type": "code",
      "metadata": {
        "colab": {
          "base_uri": "https://localhost:8080/"
        },
        "id": "l-5DkPxxnYBO",
        "outputId": "89e340f6-a189-439e-b4c8-3c475299e5ad"
      },
      "source": [
        "df['price'].corr(df['propertyType'])"
      ],
      "execution_count": null,
      "outputs": [
        {
          "output_type": "execute_result",
          "data": {
            "text/plain": [
              "-0.29980803839246634"
            ]
          },
          "metadata": {
            "tags": []
          },
          "execution_count": 158
        }
      ]
    },
    {
      "cell_type": "markdown",
      "metadata": {
        "id": "bfq0uQynnUct"
      },
      "source": [
        "NORMAL HOUSES ARE MORE COSTLY ON AN AVERAGE"
      ]
    },
    {
      "cell_type": "markdown",
      "metadata": {
        "id": "IiiteiS-n9cq"
      },
      "source": [
        "# TIME SERIES ANALYSIS"
      ]
    },
    {
      "cell_type": "code",
      "metadata": {
        "colab": {
          "base_uri": "https://localhost:8080/",
          "height": 234
        },
        "id": "-2AK-skHn_UO",
        "outputId": "da450fb9-3c0b-4e6e-e714-fa66049256b4"
      },
      "source": [
        "df.head()"
      ],
      "execution_count": null,
      "outputs": [
        {
          "output_type": "execute_result",
          "data": {
            "text/html": [
              "<div>\n",
              "<style scoped>\n",
              "    .dataframe tbody tr th:only-of-type {\n",
              "        vertical-align: middle;\n",
              "    }\n",
              "\n",
              "    .dataframe tbody tr th {\n",
              "        vertical-align: top;\n",
              "    }\n",
              "\n",
              "    .dataframe thead th {\n",
              "        text-align: right;\n",
              "    }\n",
              "</style>\n",
              "<table border=\"1\" class=\"dataframe\">\n",
              "  <thead>\n",
              "    <tr style=\"text-align: right;\">\n",
              "      <th></th>\n",
              "      <th>price</th>\n",
              "      <th>propertyType</th>\n",
              "      <th>bedrooms</th>\n",
              "    </tr>\n",
              "    <tr>\n",
              "      <th>datesold</th>\n",
              "      <th></th>\n",
              "      <th></th>\n",
              "      <th></th>\n",
              "    </tr>\n",
              "  </thead>\n",
              "  <tbody>\n",
              "    <tr>\n",
              "      <th>2007-02-07</th>\n",
              "      <td>525000</td>\n",
              "      <td>0</td>\n",
              "      <td>4</td>\n",
              "    </tr>\n",
              "    <tr>\n",
              "      <th>2007-02-27</th>\n",
              "      <td>290000</td>\n",
              "      <td>0</td>\n",
              "      <td>3</td>\n",
              "    </tr>\n",
              "    <tr>\n",
              "      <th>2007-03-07</th>\n",
              "      <td>328000</td>\n",
              "      <td>0</td>\n",
              "      <td>3</td>\n",
              "    </tr>\n",
              "    <tr>\n",
              "      <th>2007-03-09</th>\n",
              "      <td>380000</td>\n",
              "      <td>0</td>\n",
              "      <td>4</td>\n",
              "    </tr>\n",
              "    <tr>\n",
              "      <th>2007-03-21</th>\n",
              "      <td>310000</td>\n",
              "      <td>0</td>\n",
              "      <td>3</td>\n",
              "    </tr>\n",
              "  </tbody>\n",
              "</table>\n",
              "</div>"
            ],
            "text/plain": [
              "             price  propertyType  bedrooms\n",
              "datesold                                  \n",
              "2007-02-07  525000             0         4\n",
              "2007-02-27  290000             0         3\n",
              "2007-03-07  328000             0         3\n",
              "2007-03-09  380000             0         4\n",
              "2007-03-21  310000             0         3"
            ]
          },
          "metadata": {
            "tags": []
          },
          "execution_count": 159
        }
      ]
    },
    {
      "cell_type": "code",
      "metadata": {
        "colab": {
          "base_uri": "https://localhost:8080/",
          "height": 234
        },
        "id": "0_9fEIhApHuf",
        "outputId": "d725b643-7867-4787-d266-3a1e626213af"
      },
      "source": [
        "df.tail()"
      ],
      "execution_count": null,
      "outputs": [
        {
          "output_type": "execute_result",
          "data": {
            "text/html": [
              "<div>\n",
              "<style scoped>\n",
              "    .dataframe tbody tr th:only-of-type {\n",
              "        vertical-align: middle;\n",
              "    }\n",
              "\n",
              "    .dataframe tbody tr th {\n",
              "        vertical-align: top;\n",
              "    }\n",
              "\n",
              "    .dataframe thead th {\n",
              "        text-align: right;\n",
              "    }\n",
              "</style>\n",
              "<table border=\"1\" class=\"dataframe\">\n",
              "  <thead>\n",
              "    <tr style=\"text-align: right;\">\n",
              "      <th></th>\n",
              "      <th>price</th>\n",
              "      <th>propertyType</th>\n",
              "      <th>bedrooms</th>\n",
              "    </tr>\n",
              "    <tr>\n",
              "      <th>datesold</th>\n",
              "      <th></th>\n",
              "      <th></th>\n",
              "      <th></th>\n",
              "    </tr>\n",
              "  </thead>\n",
              "  <tbody>\n",
              "    <tr>\n",
              "      <th>2019-07-25</th>\n",
              "      <td>500000</td>\n",
              "      <td>1</td>\n",
              "      <td>3</td>\n",
              "    </tr>\n",
              "    <tr>\n",
              "      <th>2019-07-25</th>\n",
              "      <td>560000</td>\n",
              "      <td>1</td>\n",
              "      <td>2</td>\n",
              "    </tr>\n",
              "    <tr>\n",
              "      <th>2019-07-26</th>\n",
              "      <td>464950</td>\n",
              "      <td>1</td>\n",
              "      <td>2</td>\n",
              "    </tr>\n",
              "    <tr>\n",
              "      <th>2019-07-26</th>\n",
              "      <td>589000</td>\n",
              "      <td>1</td>\n",
              "      <td>2</td>\n",
              "    </tr>\n",
              "    <tr>\n",
              "      <th>2019-07-26</th>\n",
              "      <td>775000</td>\n",
              "      <td>1</td>\n",
              "      <td>2</td>\n",
              "    </tr>\n",
              "  </tbody>\n",
              "</table>\n",
              "</div>"
            ],
            "text/plain": [
              "             price  propertyType  bedrooms\n",
              "datesold                                  \n",
              "2019-07-25  500000             1         3\n",
              "2019-07-25  560000             1         2\n",
              "2019-07-26  464950             1         2\n",
              "2019-07-26  589000             1         2\n",
              "2019-07-26  775000             1         2"
            ]
          },
          "metadata": {
            "tags": []
          },
          "execution_count": 160
        }
      ]
    },
    {
      "cell_type": "code",
      "metadata": {
        "colab": {
          "base_uri": "https://localhost:8080/",
          "height": 476
        },
        "id": "_Sw8WWSEoBrB",
        "outputId": "84b1ff45-ba38-4ad2-f5c7-9e3cf044d9f9"
      },
      "source": [
        "df['price'].plot(figsize=(12,8));"
      ],
      "execution_count": null,
      "outputs": [
        {
          "output_type": "display_data",
          "data": {
            "image/png": "[encoded data removed]",
            "text/plain": [
              "<Figure size 864x576 with 1 Axes>"
            ]
          },
          "metadata": {
            "tags": [],
            "needs_background": "light"
          }
        }
      ]
    },
    {
      "cell_type": "markdown",
      "metadata": {
        "id": "_aSvqoQJo-3Z"
      },
      "source": [
        "# RESAMPLING DATA BY DAY"
      ]
    },
    {
      "cell_type": "code",
      "metadata": {
        "id": "mCcA080ApNNh"
      },
      "source": [
        "df=df.resample('D').mean()"
      ],
      "execution_count": null,
      "outputs": []
    },
    {
      "cell_type": "code",
      "metadata": {
        "colab": {
          "base_uri": "https://localhost:8080/",
          "height": 388
        },
        "id": "F5RzuQCppU1c",
        "outputId": "0772508d-193f-4d96-8693-ccd9a3e2ee8c"
      },
      "source": [
        "df.head(10)"
      ],
      "execution_count": null,
      "outputs": [
        {
          "output_type": "execute_result",
          "data": {
            "text/html": [
              "<div>\n",
              "<style scoped>\n",
              "    .dataframe tbody tr th:only-of-type {\n",
              "        vertical-align: middle;\n",
              "    }\n",
              "\n",
              "    .dataframe tbody tr th {\n",
              "        vertical-align: top;\n",
              "    }\n",
              "\n",
              "    .dataframe thead th {\n",
              "        text-align: right;\n",
              "    }\n",
              "</style>\n",
              "<table border=\"1\" class=\"dataframe\">\n",
              "  <thead>\n",
              "    <tr style=\"text-align: right;\">\n",
              "      <th></th>\n",
              "      <th>price</th>\n",
              "      <th>propertyType</th>\n",
              "      <th>bedrooms</th>\n",
              "    </tr>\n",
              "    <tr>\n",
              "      <th>datesold</th>\n",
              "      <th></th>\n",
              "      <th></th>\n",
              "      <th></th>\n",
              "    </tr>\n",
              "  </thead>\n",
              "  <tbody>\n",
              "    <tr>\n",
              "      <th>2007-02-07</th>\n",
              "      <td>525000.0</td>\n",
              "      <td>0.0</td>\n",
              "      <td>4.0</td>\n",
              "    </tr>\n",
              "    <tr>\n",
              "      <th>2007-02-08</th>\n",
              "      <td>NaN</td>\n",
              "      <td>NaN</td>\n",
              "      <td>NaN</td>\n",
              "    </tr>\n",
              "    <tr>\n",
              "      <th>2007-02-09</th>\n",
              "      <td>NaN</td>\n",
              "      <td>NaN</td>\n",
              "      <td>NaN</td>\n",
              "    </tr>\n",
              "    <tr>\n",
              "      <th>2007-02-10</th>\n",
              "      <td>NaN</td>\n",
              "      <td>NaN</td>\n",
              "      <td>NaN</td>\n",
              "    </tr>\n",
              "    <tr>\n",
              "      <th>2007-02-11</th>\n",
              "      <td>NaN</td>\n",
              "      <td>NaN</td>\n",
              "      <td>NaN</td>\n",
              "    </tr>\n",
              "    <tr>\n",
              "      <th>2007-02-12</th>\n",
              "      <td>NaN</td>\n",
              "      <td>NaN</td>\n",
              "      <td>NaN</td>\n",
              "    </tr>\n",
              "    <tr>\n",
              "      <th>2007-02-13</th>\n",
              "      <td>NaN</td>\n",
              "      <td>NaN</td>\n",
              "      <td>NaN</td>\n",
              "    </tr>\n",
              "    <tr>\n",
              "      <th>2007-02-14</th>\n",
              "      <td>NaN</td>\n",
              "      <td>NaN</td>\n",
              "      <td>NaN</td>\n",
              "    </tr>\n",
              "    <tr>\n",
              "      <th>2007-02-15</th>\n",
              "      <td>NaN</td>\n",
              "      <td>NaN</td>\n",
              "      <td>NaN</td>\n",
              "    </tr>\n",
              "    <tr>\n",
              "      <th>2007-02-16</th>\n",
              "      <td>NaN</td>\n",
              "      <td>NaN</td>\n",
              "      <td>NaN</td>\n",
              "    </tr>\n",
              "  </tbody>\n",
              "</table>\n",
              "</div>"
            ],
            "text/plain": [
              "               price  propertyType  bedrooms\n",
              "datesold                                    \n",
              "2007-02-07  525000.0           0.0       4.0\n",
              "2007-02-08       NaN           NaN       NaN\n",
              "2007-02-09       NaN           NaN       NaN\n",
              "2007-02-10       NaN           NaN       NaN\n",
              "2007-02-11       NaN           NaN       NaN\n",
              "2007-02-12       NaN           NaN       NaN\n",
              "2007-02-13       NaN           NaN       NaN\n",
              "2007-02-14       NaN           NaN       NaN\n",
              "2007-02-15       NaN           NaN       NaN\n",
              "2007-02-16       NaN           NaN       NaN"
            ]
          },
          "metadata": {
            "tags": []
          },
          "execution_count": 163
        }
      ]
    },
    {
      "cell_type": "code",
      "metadata": {
        "colab": {
          "base_uri": "https://localhost:8080/",
          "height": 696
        },
        "id": "Zk9_Lh6oqgER",
        "outputId": "572db826-8f73-4fac-faf0-e8f07a952e57"
      },
      "source": [
        "df.tail(20)"
      ],
      "execution_count": null,
      "outputs": [
        {
          "output_type": "execute_result",
          "data": {
            "text/html": [
              "<div>\n",
              "<style scoped>\n",
              "    .dataframe tbody tr th:only-of-type {\n",
              "        vertical-align: middle;\n",
              "    }\n",
              "\n",
              "    .dataframe tbody tr th {\n",
              "        vertical-align: top;\n",
              "    }\n",
              "\n",
              "    .dataframe thead th {\n",
              "        text-align: right;\n",
              "    }\n",
              "</style>\n",
              "<table border=\"1\" class=\"dataframe\">\n",
              "  <thead>\n",
              "    <tr style=\"text-align: right;\">\n",
              "      <th></th>\n",
              "      <th>price</th>\n",
              "      <th>propertyType</th>\n",
              "      <th>bedrooms</th>\n",
              "    </tr>\n",
              "    <tr>\n",
              "      <th>datesold</th>\n",
              "      <th></th>\n",
              "      <th></th>\n",
              "      <th></th>\n",
              "    </tr>\n",
              "  </thead>\n",
              "  <tbody>\n",
              "    <tr>\n",
              "      <th>2019-07-08</th>\n",
              "      <td>5.862857e+05</td>\n",
              "      <td>0.285714</td>\n",
              "      <td>3.071429</td>\n",
              "    </tr>\n",
              "    <tr>\n",
              "      <th>2019-07-09</th>\n",
              "      <td>5.780000e+05</td>\n",
              "      <td>0.200000</td>\n",
              "      <td>2.900000</td>\n",
              "    </tr>\n",
              "    <tr>\n",
              "      <th>2019-07-10</th>\n",
              "      <td>5.888636e+05</td>\n",
              "      <td>0.454545</td>\n",
              "      <td>2.909091</td>\n",
              "    </tr>\n",
              "    <tr>\n",
              "      <th>2019-07-11</th>\n",
              "      <td>5.296000e+05</td>\n",
              "      <td>0.400000</td>\n",
              "      <td>2.800000</td>\n",
              "    </tr>\n",
              "    <tr>\n",
              "      <th>2019-07-12</th>\n",
              "      <td>5.399875e+05</td>\n",
              "      <td>0.250000</td>\n",
              "      <td>3.000000</td>\n",
              "    </tr>\n",
              "    <tr>\n",
              "      <th>2019-07-13</th>\n",
              "      <td>1.462000e+06</td>\n",
              "      <td>0.000000</td>\n",
              "      <td>3.000000</td>\n",
              "    </tr>\n",
              "    <tr>\n",
              "      <th>2019-07-14</th>\n",
              "      <td>NaN</td>\n",
              "      <td>NaN</td>\n",
              "      <td>NaN</td>\n",
              "    </tr>\n",
              "    <tr>\n",
              "      <th>2019-07-15</th>\n",
              "      <td>6.652000e+05</td>\n",
              "      <td>0.200000</td>\n",
              "      <td>3.200000</td>\n",
              "    </tr>\n",
              "    <tr>\n",
              "      <th>2019-07-16</th>\n",
              "      <td>6.010778e+05</td>\n",
              "      <td>0.111111</td>\n",
              "      <td>2.888889</td>\n",
              "    </tr>\n",
              "    <tr>\n",
              "      <th>2019-07-17</th>\n",
              "      <td>5.655333e+05</td>\n",
              "      <td>0.266667</td>\n",
              "      <td>2.933333</td>\n",
              "    </tr>\n",
              "    <tr>\n",
              "      <th>2019-07-18</th>\n",
              "      <td>5.815000e+05</td>\n",
              "      <td>0.444444</td>\n",
              "      <td>2.777778</td>\n",
              "    </tr>\n",
              "    <tr>\n",
              "      <th>2019-07-19</th>\n",
              "      <td>6.301000e+05</td>\n",
              "      <td>0.100000</td>\n",
              "      <td>3.500000</td>\n",
              "    </tr>\n",
              "    <tr>\n",
              "      <th>2019-07-20</th>\n",
              "      <td>6.744286e+05</td>\n",
              "      <td>0.000000</td>\n",
              "      <td>3.428571</td>\n",
              "    </tr>\n",
              "    <tr>\n",
              "      <th>2019-07-21</th>\n",
              "      <td>NaN</td>\n",
              "      <td>NaN</td>\n",
              "      <td>NaN</td>\n",
              "    </tr>\n",
              "    <tr>\n",
              "      <th>2019-07-22</th>\n",
              "      <td>6.075714e+05</td>\n",
              "      <td>0.000000</td>\n",
              "      <td>3.142857</td>\n",
              "    </tr>\n",
              "    <tr>\n",
              "      <th>2019-07-23</th>\n",
              "      <td>5.621233e+05</td>\n",
              "      <td>0.400000</td>\n",
              "      <td>3.066667</td>\n",
              "    </tr>\n",
              "    <tr>\n",
              "      <th>2019-07-24</th>\n",
              "      <td>4.825000e+05</td>\n",
              "      <td>0.500000</td>\n",
              "      <td>2.250000</td>\n",
              "    </tr>\n",
              "    <tr>\n",
              "      <th>2019-07-25</th>\n",
              "      <td>5.478000e+05</td>\n",
              "      <td>0.466667</td>\n",
              "      <td>2.466667</td>\n",
              "    </tr>\n",
              "    <tr>\n",
              "      <th>2019-07-26</th>\n",
              "      <td>5.944083e+05</td>\n",
              "      <td>0.500000</td>\n",
              "      <td>2.666667</td>\n",
              "    </tr>\n",
              "    <tr>\n",
              "      <th>2019-07-27</th>\n",
              "      <td>7.075000e+05</td>\n",
              "      <td>0.000000</td>\n",
              "      <td>4.333333</td>\n",
              "    </tr>\n",
              "  </tbody>\n",
              "</table>\n",
              "</div>"
            ],
            "text/plain": [
              "                   price  propertyType  bedrooms\n",
              "datesold                                        \n",
              "2019-07-08  5.862857e+05      0.285714  3.071429\n",
              "2019-07-09  5.780000e+05      0.200000  2.900000\n",
              "2019-07-10  5.888636e+05      0.454545  2.909091\n",
              "2019-07-11  5.296000e+05      0.400000  2.800000\n",
              "2019-07-12  5.399875e+05      0.250000  3.000000\n",
              "2019-07-13  1.462000e+06      0.000000  3.000000\n",
              "2019-07-14           NaN           NaN       NaN\n",
              "2019-07-15  6.652000e+05      0.200000  3.200000\n",
              "2019-07-16  6.010778e+05      0.111111  2.888889\n",
              "2019-07-17  5.655333e+05      0.266667  2.933333\n",
              "2019-07-18  5.815000e+05      0.444444  2.777778\n",
              "2019-07-19  6.301000e+05      0.100000  3.500000\n",
              "2019-07-20  6.744286e+05      0.000000  3.428571\n",
              "2019-07-21           NaN           NaN       NaN\n",
              "2019-07-22  6.075714e+05      0.000000  3.142857\n",
              "2019-07-23  5.621233e+05      0.400000  3.066667\n",
              "2019-07-24  4.825000e+05      0.500000  2.250000\n",
              "2019-07-25  5.478000e+05      0.466667  2.466667\n",
              "2019-07-26  5.944083e+05      0.500000  2.666667\n",
              "2019-07-27  7.075000e+05      0.000000  4.333333"
            ]
          },
          "metadata": {
            "tags": []
          },
          "execution_count": 164
        }
      ]
    },
    {
      "cell_type": "markdown",
      "metadata": {
        "id": "PvU0WFJjunbG"
      },
      "source": [
        "# REPLACING MISSING DATA BY MEAN"
      ]
    },
    {
      "cell_type": "code",
      "metadata": {
        "id": "btE2-KWRuBwc"
      },
      "source": [
        "df.fillna(df.mean(),inplace=True)"
      ],
      "execution_count": null,
      "outputs": []
    },
    {
      "cell_type": "code",
      "metadata": {
        "colab": {
          "base_uri": "https://localhost:8080/"
        },
        "id": "XrWv-4BEuSly",
        "outputId": "bdb6b435-0bc3-4771-b99e-f56aa14e7b68"
      },
      "source": [
        "df.isnull().sum()"
      ],
      "execution_count": null,
      "outputs": [
        {
          "output_type": "execute_result",
          "data": {
            "text/plain": [
              "price           0\n",
              "propertyType    0\n",
              "bedrooms        0\n",
              "dtype: int64"
            ]
          },
          "metadata": {
            "tags": []
          },
          "execution_count": 166
        }
      ]
    },
    {
      "cell_type": "code",
      "metadata": {
        "colab": {
          "base_uri": "https://localhost:8080/",
          "height": 633
        },
        "id": "3GJVYlArpXxu",
        "outputId": "acd7afda-b04b-4418-ede3-9464badc2081"
      },
      "source": [
        "df['price'].plot(figsize=(15,10))"
      ],
      "execution_count": null,
      "outputs": [
        {
          "output_type": "execute_result",
          "data": {
            "text/plain": [
              "<matplotlib.axes._subplots.AxesSubplot at 0x7febbbe82ed0>"
            ]
          },
          "metadata": {
            "tags": []
          },
          "execution_count": 167
        },
        {
          "output_type": "display_data",
          "data": {
            "image/png": "[encoded data removed]",
            "text/plain": [
              "<Figure size 1080x720 with 1 Axes>"
            ]
          },
          "metadata": {
            "tags": [],
            "needs_background": "light"
          }
        }
      ]
    },
    {
      "cell_type": "markdown",
      "metadata": {
        "id": "w8ef5Dyqu6BL"
      },
      "source": [
        "# SEASONAL DECOMPOSITION"
      ]
    },
    {
      "cell_type": "code",
      "metadata": {
        "id": "A6P7rUcKrX7L"
      },
      "source": [
        "df.index.freq='D'"
      ],
      "execution_count": null,
      "outputs": []
    },
    {
      "cell_type": "code",
      "metadata": {
        "id": "LxkW9KaLpkB_"
      },
      "source": [
        "from statsmodels.tsa.seasonal import seasonal_decompose\n",
        "result = seasonal_decompose(df['price'],model='mul')"
      ],
      "execution_count": null,
      "outputs": []
    },
    {
      "cell_type": "code",
      "metadata": {
        "colab": {
          "base_uri": "https://localhost:8080/",
          "height": 297
        },
        "id": "ZtKE1rHEuvol",
        "outputId": "31045f0e-789c-45bf-f9fc-5d36223a1325"
      },
      "source": [
        "result.plot();"
      ],
      "execution_count": null,
      "outputs": [
        {
          "output_type": "display_data",
          "data": {
            "image/png": "[encoded data removed]",
            "text/plain": [
              "<Figure size 432x288 with 4 Axes>"
            ]
          },
          "metadata": {
            "tags": [],
            "needs_background": "light"
          }
        }
      ]
    },
    {
      "cell_type": "code",
      "metadata": {
        "colab": {
          "base_uri": "https://localhost:8080/",
          "height": 525
        },
        "id": "F1Uvdh7yu27E",
        "outputId": "ad54cb88-a67f-46b5-97e2-b4f02cdb73c5"
      },
      "source": [
        "result.trend.plot(figsize=(12,8))"
      ],
      "execution_count": null,
      "outputs": [
        {
          "output_type": "execute_result",
          "data": {
            "text/plain": [
              "<matplotlib.axes._subplots.AxesSubplot at 0x7febbc6e9490>"
            ]
          },
          "metadata": {
            "tags": []
          },
          "execution_count": 171
        },
        {
          "output_type": "display_data",
          "data": {
            "image/png": "[encoded data removed]",
            "text/plain": [
              "<Figure size 864x576 with 1 Axes>"
            ]
          },
          "metadata": {
            "tags": [],
            "needs_background": "light"
          }
        }
      ]
    },
    {
      "cell_type": "code",
      "metadata": {
        "colab": {
          "base_uri": "https://localhost:8080/",
          "height": 514
        },
        "id": "CBQokF4VvAgw",
        "outputId": "54e51521-4557-48fd-cf13-c9439881dfb6"
      },
      "source": [
        "result.seasonal.plot(figsize=(12,8))"
      ],
      "execution_count": null,
      "outputs": [
        {
          "output_type": "execute_result",
          "data": {
            "text/plain": [
              "<matplotlib.axes._subplots.AxesSubplot at 0x7febbba09490>"
            ]
          },
          "metadata": {
            "tags": []
          },
          "execution_count": 172
        },
        {
          "output_type": "display_data",
          "data": {
            "image/png": "[encoded data removed]",
            "text/plain": [
              "<Figure size 864x576 with 1 Axes>"
            ]
          },
          "metadata": {
            "tags": [],
            "needs_background": "light"
          }
        }
      ]
    },
    {
      "cell_type": "markdown",
      "metadata": {
        "id": "OwweTJe2vJLt"
      },
      "source": [
        "# VERY LOW SEASONALITY AND NOT ANY GENERAL TREND"
      ]
    },
    {
      "cell_type": "markdown",
      "metadata": {
        "id": "RMWQ-RPNveWd"
      },
      "source": [
        "# AUGMENTED DICKEY FULLER TEST FOR STATIONARITY"
      ]
    },
    {
      "cell_type": "code",
      "metadata": {
        "id": "rzDigTcfvdnh"
      },
      "source": [
        "from statsmodels.tsa.stattools import adfuller\n",
        "\n",
        "def adf_test(series,title=''):\n",
        "    \"\"\"\n",
        "    Pass in a time series and an optional title, returns an ADF report\n",
        "    \"\"\"\n",
        "    print(f'Augmented Dickey-Fuller Test: {title}')\n",
        "    result = adfuller(series.dropna(),autolag='AIC') # .dropna() handles differenced data\n",
        "    \n",
        "    labels = ['ADF test statistic','p-value','# lags used','# observations']\n",
        "    out = pd.Series(result[0:4],index=labels)\n",
        "\n",
        "    for key,val in result[4].items():\n",
        "        out[f'critical value ({key})']=val\n",
        "        \n",
        "    print(out.to_string())          # .to_string() removes the line \"dtype: float64\"\n",
        "    \n",
        "    if result[1] <= 0.05:\n",
        "        print(\"Strong evidence against the null hypothesis\")\n",
        "        print(\"Reject the null hypothesis\")\n",
        "        print(\"Data has no unit root and is stationary\")\n",
        "    else:\n",
        "        print(\"Weak evidence against the null hypothesis\")\n",
        "        print(\"Fail to reject the null hypothesis\")\n",
        "        print(\"Data has a unit root and is non-stationary\")"
      ],
      "execution_count": null,
      "outputs": []
    },
    {
      "cell_type": "code",
      "metadata": {
        "colab": {
          "base_uri": "https://localhost:8080/"
        },
        "id": "fNzp1aI9vt4P",
        "outputId": "daa727a9-5805-48e7-8288-7290150f26d9"
      },
      "source": [
        "adf_test(df['price'])"
      ],
      "execution_count": null,
      "outputs": [
        {
          "output_type": "stream",
          "text": [
            "Augmented Dickey-Fuller Test: \n",
            "ADF test statistic     -5.926036e+00\n",
            "p-value                 2.442489e-07\n",
            "# lags used             2.700000e+01\n",
            "# observations          4.526000e+03\n",
            "critical value (1%)    -3.431796e+00\n",
            "critical value (5%)    -2.862179e+00\n",
            "critical value (10%)   -2.567110e+00\n",
            "Strong evidence against the null hypothesis\n",
            "Reject the null hypothesis\n",
            "Data has no unit root and is stationary\n"
          ],
          "name": "stdout"
        }
      ]
    },
    {
      "cell_type": "markdown",
      "metadata": {
        "id": "1Dop0epkvyul"
      },
      "source": [
        "### STATIONARY DATA ALSO CONFIRMS LOW SEASONALITY"
      ]
    },
    {
      "cell_type": "markdown",
      "metadata": {
        "id": "q_dC05EbvWHD"
      },
      "source": [
        "# MAKING SARIMAX MODEL"
      ]
    },
    {
      "cell_type": "code",
      "metadata": {
        "colab": {
          "base_uri": "https://localhost:8080/",
          "height": 447
        },
        "id": "OQ8xqvIIxawE",
        "outputId": "7c86a8ed-5fa3-4a9d-a3f2-bd5db554ee8c"
      },
      "source": [
        "df"
      ],
      "execution_count": null,
      "outputs": [
        {
          "output_type": "execute_result",
          "data": {
            "text/html": [
              "<div>\n",
              "<style scoped>\n",
              "    .dataframe tbody tr th:only-of-type {\n",
              "        vertical-align: middle;\n",
              "    }\n",
              "\n",
              "    .dataframe tbody tr th {\n",
              "        vertical-align: top;\n",
              "    }\n",
              "\n",
              "    .dataframe thead th {\n",
              "        text-align: right;\n",
              "    }\n",
              "</style>\n",
              "<table border=\"1\" class=\"dataframe\">\n",
              "  <thead>\n",
              "    <tr style=\"text-align: right;\">\n",
              "      <th></th>\n",
              "      <th>price</th>\n",
              "      <th>propertyType</th>\n",
              "      <th>bedrooms</th>\n",
              "    </tr>\n",
              "    <tr>\n",
              "      <th>datesold</th>\n",
              "      <th></th>\n",
              "      <th></th>\n",
              "      <th></th>\n",
              "    </tr>\n",
              "  </thead>\n",
              "  <tbody>\n",
              "    <tr>\n",
              "      <th>2007-02-07</th>\n",
              "      <td>525000.000000</td>\n",
              "      <td>0.000000</td>\n",
              "      <td>4.000000</td>\n",
              "    </tr>\n",
              "    <tr>\n",
              "      <th>2007-02-08</th>\n",
              "      <td>587596.701512</td>\n",
              "      <td>0.157264</td>\n",
              "      <td>3.259281</td>\n",
              "    </tr>\n",
              "    <tr>\n",
              "      <th>2007-02-09</th>\n",
              "      <td>587596.701512</td>\n",
              "      <td>0.157264</td>\n",
              "      <td>3.259281</td>\n",
              "    </tr>\n",
              "    <tr>\n",
              "      <th>2007-02-10</th>\n",
              "      <td>587596.701512</td>\n",
              "      <td>0.157264</td>\n",
              "      <td>3.259281</td>\n",
              "    </tr>\n",
              "    <tr>\n",
              "      <th>2007-02-11</th>\n",
              "      <td>587596.701512</td>\n",
              "      <td>0.157264</td>\n",
              "      <td>3.259281</td>\n",
              "    </tr>\n",
              "    <tr>\n",
              "      <th>...</th>\n",
              "      <td>...</td>\n",
              "      <td>...</td>\n",
              "      <td>...</td>\n",
              "    </tr>\n",
              "    <tr>\n",
              "      <th>2019-07-23</th>\n",
              "      <td>562123.333333</td>\n",
              "      <td>0.400000</td>\n",
              "      <td>3.066667</td>\n",
              "    </tr>\n",
              "    <tr>\n",
              "      <th>2019-07-24</th>\n",
              "      <td>482500.000000</td>\n",
              "      <td>0.500000</td>\n",
              "      <td>2.250000</td>\n",
              "    </tr>\n",
              "    <tr>\n",
              "      <th>2019-07-25</th>\n",
              "      <td>547800.000000</td>\n",
              "      <td>0.466667</td>\n",
              "      <td>2.466667</td>\n",
              "    </tr>\n",
              "    <tr>\n",
              "      <th>2019-07-26</th>\n",
              "      <td>594408.333333</td>\n",
              "      <td>0.500000</td>\n",
              "      <td>2.666667</td>\n",
              "    </tr>\n",
              "    <tr>\n",
              "      <th>2019-07-27</th>\n",
              "      <td>707500.000000</td>\n",
              "      <td>0.000000</td>\n",
              "      <td>4.333333</td>\n",
              "    </tr>\n",
              "  </tbody>\n",
              "</table>\n",
              "<p>4554 rows × 3 columns</p>\n",
              "</div>"
            ],
            "text/plain": [
              "                    price  propertyType  bedrooms\n",
              "datesold                                         \n",
              "2007-02-07  525000.000000      0.000000  4.000000\n",
              "2007-02-08  587596.701512      0.157264  3.259281\n",
              "2007-02-09  587596.701512      0.157264  3.259281\n",
              "2007-02-10  587596.701512      0.157264  3.259281\n",
              "2007-02-11  587596.701512      0.157264  3.259281\n",
              "...                   ...           ...       ...\n",
              "2019-07-23  562123.333333      0.400000  3.066667\n",
              "2019-07-24  482500.000000      0.500000  2.250000\n",
              "2019-07-25  547800.000000      0.466667  2.466667\n",
              "2019-07-26  594408.333333      0.500000  2.666667\n",
              "2019-07-27  707500.000000      0.000000  4.333333\n",
              "\n",
              "[4554 rows x 3 columns]"
            ]
          },
          "metadata": {
            "tags": []
          },
          "execution_count": 175
        }
      ]
    },
    {
      "cell_type": "markdown",
      "metadata": {
        "id": "4QnAmxeEv86-"
      },
      "source": [
        "## GETTING BEST SET OF p,q,d and P,Q,D values"
      ]
    },
    {
      "cell_type": "code",
      "metadata": {
        "colab": {
          "base_uri": "https://localhost:8080/"
        },
        "id": "CHVz87MjwKaY",
        "outputId": "eb159da2-3b04-4c68-8666-33a4b99885c6"
      },
      "source": [
        "!pip install pmdarima"
      ],
      "execution_count": null,
      "outputs": [
        {
          "output_type": "stream",
          "text": [
            "Requirement already satisfied: pmdarima in /usr/local/lib/python3.7/dist-packages (1.8.2)\n",
            "Requirement already satisfied: joblib>=0.11 in /usr/local/lib/python3.7/dist-packages (from pmdarima) (1.0.1)\n",
            "Requirement already satisfied: numpy~=1.19.0 in /usr/local/lib/python3.7/dist-packages (from pmdarima) (1.19.5)\n",
            "Requirement already satisfied: setuptools!=50.0.0,>=38.6.0 in /usr/local/lib/python3.7/dist-packages (from pmdarima) (57.2.0)\n",
            "Requirement already satisfied: Cython!=0.29.18,>=0.29 in /usr/local/lib/python3.7/dist-packages (from pmdarima) (0.29.23)\n",
            "Requirement already satisfied: pandas>=0.19 in /usr/local/lib/python3.7/dist-packages (from pmdarima) (1.1.5)\n",
            "Requirement already satisfied: scipy>=1.3.2 in /usr/local/lib/python3.7/dist-packages (from pmdarima) (1.4.1)\n",
            "Requirement already satisfied: scikit-learn>=0.22 in /usr/local/lib/python3.7/dist-packages (from pmdarima) (0.22.2.post1)\n",
            "Requirement already satisfied: statsmodels!=0.12.0,>=0.11 in /usr/local/lib/python3.7/dist-packages (from pmdarima) (0.12.2)\n",
            "Requirement already satisfied: urllib3 in /usr/local/lib/python3.7/dist-packages (from pmdarima) (1.24.3)\n",
            "Requirement already satisfied: pytz>=2017.2 in /usr/local/lib/python3.7/dist-packages (from pandas>=0.19->pmdarima) (2018.9)\n",
            "Requirement already satisfied: python-dateutil>=2.7.3 in /usr/local/lib/python3.7/dist-packages (from pandas>=0.19->pmdarima) (2.8.1)\n",
            "Requirement already satisfied: six>=1.5 in /usr/local/lib/python3.7/dist-packages (from python-dateutil>=2.7.3->pandas>=0.19->pmdarima) (1.15.0)\n",
            "Requirement already satisfied: patsy>=0.5 in /usr/local/lib/python3.7/dist-packages (from statsmodels!=0.12.0,>=0.11->pmdarima) (0.5.1)\n"
          ],
          "name": "stdout"
        }
      ]
    },
    {
      "cell_type": "code",
      "metadata": {
        "id": "dFwSirNZv8Gt"
      },
      "source": [
        "from pmdarima import auto_arima"
      ],
      "execution_count": null,
      "outputs": []
    },
    {
      "cell_type": "markdown",
      "metadata": {
        "id": "lyym4ikhzYy_"
      },
      "source": [
        "# USING NO OF BEDROOMS AS ONLY EXOGENOUS VARIABLE"
      ]
    },
    {
      "cell_type": "code",
      "metadata": {
        "colab": {
          "base_uri": "https://localhost:8080/",
          "height": 914
        },
        "id": "LZr03jYZvTdD",
        "outputId": "062188a1-02de-4892-d94d-cc81a02a7262"
      },
      "source": [
        "auto_arima(df['price'],exogenous=df[['bedrooms']],start_p=0,start_q=0,seasonal=False,trace=True).summary()"
      ],
      "execution_count": null,
      "outputs": [
        {
          "output_type": "stream",
          "text": [
            "Performing stepwise search to minimize aic\n",
            " ARIMA(0,1,0)(0,0,0)[0] intercept   : AIC=122731.171, Time=0.12 sec\n",
            " ARIMA(1,1,0)(0,0,0)[0] intercept   : AIC=121520.986, Time=0.23 sec\n",
            " ARIMA(0,1,1)(0,0,0)[0] intercept   : AIC=119856.966, Time=1.23 sec\n",
            " ARIMA(0,1,0)(0,0,0)[0]             : AIC=156529.556, Time=0.13 sec\n",
            " ARIMA(1,1,1)(0,0,0)[0] intercept   : AIC=119856.861, Time=1.90 sec\n",
            " ARIMA(2,1,1)(0,0,0)[0] intercept   : AIC=119858.496, Time=2.23 sec\n",
            " ARIMA(1,1,2)(0,0,0)[0] intercept   : AIC=119772.740, Time=2.07 sec\n",
            " ARIMA(0,1,2)(0,0,0)[0] intercept   : AIC=119788.968, Time=1.58 sec\n",
            " ARIMA(2,1,2)(0,0,0)[0] intercept   : AIC=119772.793, Time=2.64 sec\n",
            " ARIMA(1,1,3)(0,0,0)[0] intercept   : AIC=119763.507, Time=2.48 sec\n",
            " ARIMA(0,1,3)(0,0,0)[0] intercept   : AIC=119764.141, Time=2.57 sec\n",
            " ARIMA(2,1,3)(0,0,0)[0] intercept   : AIC=119764.710, Time=2.24 sec\n",
            " ARIMA(1,1,4)(0,0,0)[0] intercept   : AIC=119763.565, Time=3.28 sec\n",
            " ARIMA(0,1,4)(0,0,0)[0] intercept   : AIC=119761.531, Time=2.94 sec\n",
            " ARIMA(0,1,5)(0,0,0)[0] intercept   : AIC=119755.529, Time=4.77 sec\n",
            " ARIMA(1,1,5)(0,0,0)[0] intercept   : AIC=119757.150, Time=3.43 sec\n",
            " ARIMA(0,1,5)(0,0,0)[0]             : AIC=119752.349, Time=4.15 sec\n",
            " ARIMA(0,1,4)(0,0,0)[0]             : AIC=119759.044, Time=2.39 sec\n",
            " ARIMA(1,1,5)(0,0,0)[0]             : AIC=119753.461, Time=3.06 sec\n",
            " ARIMA(1,1,4)(0,0,0)[0]             : AIC=119761.982, Time=2.90 sec\n",
            "\n",
            "Best model:  ARIMA(0,1,5)(0,0,0)[0]          \n",
            "Total fit time: 46.389 seconds\n"
          ],
          "name": "stdout"
        },
        {
          "output_type": "execute_result",
          "data": {
            "text/html": [
              "<table class=\"simpletable\">\n",
              "<caption>SARIMAX Results</caption>\n",
              "<tr>\n",
              "  <th>Dep. Variable:</th>           <td>y</td>        <th>  No. Observations:  </th>    <td>4554</td>   \n",
              "</tr>\n",
              "<tr>\n",
              "  <th>Model:</th>           <td>SARIMAX(0, 1, 5)</td> <th>  Log Likelihood     </th> <td>-59869.175</td>\n",
              "</tr>\n",
              "<tr>\n",
              "  <th>Date:</th>            <td>Tue, 03 Aug 2021</td> <th>  AIC                </th> <td>119752.349</td>\n",
              "</tr>\n",
              "<tr>\n",
              "  <th>Time:</th>                <td>12:04:05</td>     <th>  BIC                </th> <td>119797.314</td>\n",
              "</tr>\n",
              "<tr>\n",
              "  <th>Sample:</th>             <td>02-07-2007</td>    <th>  HQIC               </th> <td>119768.184</td>\n",
              "</tr>\n",
              "<tr>\n",
              "  <th></th>                   <td>- 07-27-2019</td>   <th>                     </th>      <td> </td>    \n",
              "</tr>\n",
              "<tr>\n",
              "  <th>Covariance Type:</th>        <td>opg</td>       <th>                     </th>      <td> </td>    \n",
              "</tr>\n",
              "</table>\n",
              "<table class=\"simpletable\">\n",
              "<tr>\n",
              "      <td></td>        <th>coef</th>     <th>std err</th>      <th>z</th>      <th>P>|z|</th>  <th>[0.025</th>    <th>0.975]</th>  \n",
              "</tr>\n",
              "<tr>\n",
              "  <th>bedrooms</th> <td> 1.577e+05</td> <td> 2683.196</td> <td>   58.787</td> <td> 0.000</td> <td> 1.52e+05</td> <td> 1.63e+05</td>\n",
              "</tr>\n",
              "<tr>\n",
              "  <th>ma.L1</th>    <td>   -0.9660</td> <td>    0.013</td> <td>  -76.829</td> <td> 0.000</td> <td>   -0.991</td> <td>   -0.941</td>\n",
              "</tr>\n",
              "<tr>\n",
              "  <th>ma.L2</th>    <td>   -0.0282</td> <td>    0.024</td> <td>   -1.183</td> <td> 0.237</td> <td>   -0.075</td> <td>    0.019</td>\n",
              "</tr>\n",
              "<tr>\n",
              "  <th>ma.L3</th>    <td>   -0.0045</td> <td>    0.035</td> <td>   -0.130</td> <td> 0.896</td> <td>   -0.073</td> <td>    0.064</td>\n",
              "</tr>\n",
              "<tr>\n",
              "  <th>ma.L4</th>    <td>   -0.0225</td> <td>    0.039</td> <td>   -0.580</td> <td> 0.562</td> <td>   -0.098</td> <td>    0.053</td>\n",
              "</tr>\n",
              "<tr>\n",
              "  <th>ma.L5</th>    <td>    0.0354</td> <td>    0.026</td> <td>    1.368</td> <td> 0.171</td> <td>   -0.015</td> <td>    0.086</td>\n",
              "</tr>\n",
              "<tr>\n",
              "  <th>sigma2</th>   <td> 1.649e+10</td> <td>    0.107</td> <td> 1.54e+11</td> <td> 0.000</td> <td> 1.65e+10</td> <td> 1.65e+10</td>\n",
              "</tr>\n",
              "</table>\n",
              "<table class=\"simpletable\">\n",
              "<tr>\n",
              "  <th>Ljung-Box (L1) (Q):</th>     <td>0.00</td> <th>  Jarque-Bera (JB):  </th> <td>31588867.73</td>\n",
              "</tr>\n",
              "<tr>\n",
              "  <th>Prob(Q):</th>                <td>0.96</td> <th>  Prob(JB):          </th>    <td>0.00</td>    \n",
              "</tr>\n",
              "<tr>\n",
              "  <th>Heteroskedasticity (H):</th> <td>2.25</td> <th>  Skew:              </th>    <td>12.57</td>   \n",
              "</tr>\n",
              "<tr>\n",
              "  <th>Prob(H) (two-sided):</th>    <td>0.00</td> <th>  Kurtosis:          </th>   <td>410.28</td>   \n",
              "</tr>\n",
              "</table><br/><br/>Warnings:<br/>[1] Covariance matrix calculated using the outer product of gradients (complex-step).<br/>[2] Covariance matrix is singular or near-singular, with condition number 2.35e+25. Standard errors may be unstable."
            ],
            "text/plain": [
              "<class 'statsmodels.iolib.summary.Summary'>\n",
              "\"\"\"\n",
              "                               SARIMAX Results                                \n",
              "==============================================================================\n",
              "Dep. Variable:                      y   No. Observations:                 4554\n",
              "Model:               SARIMAX(0, 1, 5)   Log Likelihood              -59869.175\n",
              "Date:                Tue, 03 Aug 2021   AIC                         119752.349\n",
              "Time:                        12:04:05   BIC                         119797.314\n",
              "Sample:                    02-07-2007   HQIC                        119768.184\n",
              "                         - 07-27-2019                                         \n",
              "Covariance Type:                  opg                                         \n",
              "==============================================================================\n",
              "                 coef    std err          z      P>|z|      [0.025      0.975]\n",
              "------------------------------------------------------------------------------\n",
              "bedrooms    1.577e+05   2683.196     58.787      0.000    1.52e+05    1.63e+05\n",
              "ma.L1         -0.9660      0.013    -76.829      0.000      -0.991      -0.941\n",
              "ma.L2         -0.0282      0.024     -1.183      0.237      -0.075       0.019\n",
              "ma.L3         -0.0045      0.035     -0.130      0.896      -0.073       0.064\n",
              "ma.L4         -0.0225      0.039     -0.580      0.562      -0.098       0.053\n",
              "ma.L5          0.0354      0.026      1.368      0.171      -0.015       0.086\n",
              "sigma2      1.649e+10      0.107   1.54e+11      0.000    1.65e+10    1.65e+10\n",
              "===================================================================================\n",
              "Ljung-Box (L1) (Q):                   0.00   Jarque-Bera (JB):          31588867.73\n",
              "Prob(Q):                              0.96   Prob(JB):                         0.00\n",
              "Heteroskedasticity (H):               2.25   Skew:                            12.57\n",
              "Prob(H) (two-sided):                  0.00   Kurtosis:                       410.28\n",
              "===================================================================================\n",
              "\n",
              "Warnings:\n",
              "[1] Covariance matrix calculated using the outer product of gradients (complex-step).\n",
              "[2] Covariance matrix is singular or near-singular, with condition number 2.35e+25. Standard errors may be unstable.\n",
              "\"\"\""
            ]
          },
          "metadata": {
            "tags": []
          },
          "execution_count": 179
        }
      ]
    },
    {
      "cell_type": "markdown",
      "metadata": {
        "id": "zDLrVvkd0LD1"
      },
      "source": [
        "## SPLITTING DATA"
      ]
    },
    {
      "cell_type": "code",
      "metadata": {
        "id": "N_8ivI3d0KcN"
      },
      "source": [
        "train = df.iloc[0:-14]\n",
        "test = df.iloc[-14:]"
      ],
      "execution_count": null,
      "outputs": []
    },
    {
      "cell_type": "code",
      "metadata": {
        "colab": {
          "base_uri": "https://localhost:8080/",
          "height": 447
        },
        "id": "qINeUpP_0igM",
        "outputId": "f1a45671-060c-4ed3-e1d3-40c00d3b5115"
      },
      "source": [
        "train"
      ],
      "execution_count": null,
      "outputs": [
        {
          "output_type": "execute_result",
          "data": {
            "text/html": [
              "<div>\n",
              "<style scoped>\n",
              "    .dataframe tbody tr th:only-of-type {\n",
              "        vertical-align: middle;\n",
              "    }\n",
              "\n",
              "    .dataframe tbody tr th {\n",
              "        vertical-align: top;\n",
              "    }\n",
              "\n",
              "    .dataframe thead th {\n",
              "        text-align: right;\n",
              "    }\n",
              "</style>\n",
              "<table border=\"1\" class=\"dataframe\">\n",
              "  <thead>\n",
              "    <tr style=\"text-align: right;\">\n",
              "      <th></th>\n",
              "      <th>price</th>\n",
              "      <th>propertyType</th>\n",
              "      <th>bedrooms</th>\n",
              "    </tr>\n",
              "    <tr>\n",
              "      <th>datesold</th>\n",
              "      <th></th>\n",
              "      <th></th>\n",
              "      <th></th>\n",
              "    </tr>\n",
              "  </thead>\n",
              "  <tbody>\n",
              "    <tr>\n",
              "      <th>2007-02-07</th>\n",
              "      <td>5.250000e+05</td>\n",
              "      <td>0.000000</td>\n",
              "      <td>4.000000</td>\n",
              "    </tr>\n",
              "    <tr>\n",
              "      <th>2007-02-08</th>\n",
              "      <td>5.875967e+05</td>\n",
              "      <td>0.157264</td>\n",
              "      <td>3.259281</td>\n",
              "    </tr>\n",
              "    <tr>\n",
              "      <th>2007-02-09</th>\n",
              "      <td>5.875967e+05</td>\n",
              "      <td>0.157264</td>\n",
              "      <td>3.259281</td>\n",
              "    </tr>\n",
              "    <tr>\n",
              "      <th>2007-02-10</th>\n",
              "      <td>5.875967e+05</td>\n",
              "      <td>0.157264</td>\n",
              "      <td>3.259281</td>\n",
              "    </tr>\n",
              "    <tr>\n",
              "      <th>2007-02-11</th>\n",
              "      <td>5.875967e+05</td>\n",
              "      <td>0.157264</td>\n",
              "      <td>3.259281</td>\n",
              "    </tr>\n",
              "    <tr>\n",
              "      <th>...</th>\n",
              "      <td>...</td>\n",
              "      <td>...</td>\n",
              "      <td>...</td>\n",
              "    </tr>\n",
              "    <tr>\n",
              "      <th>2019-07-09</th>\n",
              "      <td>5.780000e+05</td>\n",
              "      <td>0.200000</td>\n",
              "      <td>2.900000</td>\n",
              "    </tr>\n",
              "    <tr>\n",
              "      <th>2019-07-10</th>\n",
              "      <td>5.888636e+05</td>\n",
              "      <td>0.454545</td>\n",
              "      <td>2.909091</td>\n",
              "    </tr>\n",
              "    <tr>\n",
              "      <th>2019-07-11</th>\n",
              "      <td>5.296000e+05</td>\n",
              "      <td>0.400000</td>\n",
              "      <td>2.800000</td>\n",
              "    </tr>\n",
              "    <tr>\n",
              "      <th>2019-07-12</th>\n",
              "      <td>5.399875e+05</td>\n",
              "      <td>0.250000</td>\n",
              "      <td>3.000000</td>\n",
              "    </tr>\n",
              "    <tr>\n",
              "      <th>2019-07-13</th>\n",
              "      <td>1.462000e+06</td>\n",
              "      <td>0.000000</td>\n",
              "      <td>3.000000</td>\n",
              "    </tr>\n",
              "  </tbody>\n",
              "</table>\n",
              "<p>4540 rows × 3 columns</p>\n",
              "</div>"
            ],
            "text/plain": [
              "                   price  propertyType  bedrooms\n",
              "datesold                                        \n",
              "2007-02-07  5.250000e+05      0.000000  4.000000\n",
              "2007-02-08  5.875967e+05      0.157264  3.259281\n",
              "2007-02-09  5.875967e+05      0.157264  3.259281\n",
              "2007-02-10  5.875967e+05      0.157264  3.259281\n",
              "2007-02-11  5.875967e+05      0.157264  3.259281\n",
              "...                  ...           ...       ...\n",
              "2019-07-09  5.780000e+05      0.200000  2.900000\n",
              "2019-07-10  5.888636e+05      0.454545  2.909091\n",
              "2019-07-11  5.296000e+05      0.400000  2.800000\n",
              "2019-07-12  5.399875e+05      0.250000  3.000000\n",
              "2019-07-13  1.462000e+06      0.000000  3.000000\n",
              "\n",
              "[4540 rows x 3 columns]"
            ]
          },
          "metadata": {
            "tags": []
          },
          "execution_count": 181
        }
      ]
    },
    {
      "cell_type": "code",
      "metadata": {
        "colab": {
          "base_uri": "https://localhost:8080/",
          "height": 511
        },
        "id": "9zKaI9Q50li_",
        "outputId": "87eb1038-c242-4403-e437-bbef4da26b9c"
      },
      "source": [
        "test"
      ],
      "execution_count": null,
      "outputs": [
        {
          "output_type": "execute_result",
          "data": {
            "text/html": [
              "<div>\n",
              "<style scoped>\n",
              "    .dataframe tbody tr th:only-of-type {\n",
              "        vertical-align: middle;\n",
              "    }\n",
              "\n",
              "    .dataframe tbody tr th {\n",
              "        vertical-align: top;\n",
              "    }\n",
              "\n",
              "    .dataframe thead th {\n",
              "        text-align: right;\n",
              "    }\n",
              "</style>\n",
              "<table border=\"1\" class=\"dataframe\">\n",
              "  <thead>\n",
              "    <tr style=\"text-align: right;\">\n",
              "      <th></th>\n",
              "      <th>price</th>\n",
              "      <th>propertyType</th>\n",
              "      <th>bedrooms</th>\n",
              "    </tr>\n",
              "    <tr>\n",
              "      <th>datesold</th>\n",
              "      <th></th>\n",
              "      <th></th>\n",
              "      <th></th>\n",
              "    </tr>\n",
              "  </thead>\n",
              "  <tbody>\n",
              "    <tr>\n",
              "      <th>2019-07-14</th>\n",
              "      <td>587596.701512</td>\n",
              "      <td>0.157264</td>\n",
              "      <td>3.259281</td>\n",
              "    </tr>\n",
              "    <tr>\n",
              "      <th>2019-07-15</th>\n",
              "      <td>665200.000000</td>\n",
              "      <td>0.200000</td>\n",
              "      <td>3.200000</td>\n",
              "    </tr>\n",
              "    <tr>\n",
              "      <th>2019-07-16</th>\n",
              "      <td>601077.777778</td>\n",
              "      <td>0.111111</td>\n",
              "      <td>2.888889</td>\n",
              "    </tr>\n",
              "    <tr>\n",
              "      <th>2019-07-17</th>\n",
              "      <td>565533.333333</td>\n",
              "      <td>0.266667</td>\n",
              "      <td>2.933333</td>\n",
              "    </tr>\n",
              "    <tr>\n",
              "      <th>2019-07-18</th>\n",
              "      <td>581500.000000</td>\n",
              "      <td>0.444444</td>\n",
              "      <td>2.777778</td>\n",
              "    </tr>\n",
              "    <tr>\n",
              "      <th>2019-07-19</th>\n",
              "      <td>630100.000000</td>\n",
              "      <td>0.100000</td>\n",
              "      <td>3.500000</td>\n",
              "    </tr>\n",
              "    <tr>\n",
              "      <th>2019-07-20</th>\n",
              "      <td>674428.571429</td>\n",
              "      <td>0.000000</td>\n",
              "      <td>3.428571</td>\n",
              "    </tr>\n",
              "    <tr>\n",
              "      <th>2019-07-21</th>\n",
              "      <td>587596.701512</td>\n",
              "      <td>0.157264</td>\n",
              "      <td>3.259281</td>\n",
              "    </tr>\n",
              "    <tr>\n",
              "      <th>2019-07-22</th>\n",
              "      <td>607571.428571</td>\n",
              "      <td>0.000000</td>\n",
              "      <td>3.142857</td>\n",
              "    </tr>\n",
              "    <tr>\n",
              "      <th>2019-07-23</th>\n",
              "      <td>562123.333333</td>\n",
              "      <td>0.400000</td>\n",
              "      <td>3.066667</td>\n",
              "    </tr>\n",
              "    <tr>\n",
              "      <th>2019-07-24</th>\n",
              "      <td>482500.000000</td>\n",
              "      <td>0.500000</td>\n",
              "      <td>2.250000</td>\n",
              "    </tr>\n",
              "    <tr>\n",
              "      <th>2019-07-25</th>\n",
              "      <td>547800.000000</td>\n",
              "      <td>0.466667</td>\n",
              "      <td>2.466667</td>\n",
              "    </tr>\n",
              "    <tr>\n",
              "      <th>2019-07-26</th>\n",
              "      <td>594408.333333</td>\n",
              "      <td>0.500000</td>\n",
              "      <td>2.666667</td>\n",
              "    </tr>\n",
              "    <tr>\n",
              "      <th>2019-07-27</th>\n",
              "      <td>707500.000000</td>\n",
              "      <td>0.000000</td>\n",
              "      <td>4.333333</td>\n",
              "    </tr>\n",
              "  </tbody>\n",
              "</table>\n",
              "</div>"
            ],
            "text/plain": [
              "                    price  propertyType  bedrooms\n",
              "datesold                                         \n",
              "2019-07-14  587596.701512      0.157264  3.259281\n",
              "2019-07-15  665200.000000      0.200000  3.200000\n",
              "2019-07-16  601077.777778      0.111111  2.888889\n",
              "2019-07-17  565533.333333      0.266667  2.933333\n",
              "2019-07-18  581500.000000      0.444444  2.777778\n",
              "2019-07-19  630100.000000      0.100000  3.500000\n",
              "2019-07-20  674428.571429      0.000000  3.428571\n",
              "2019-07-21  587596.701512      0.157264  3.259281\n",
              "2019-07-22  607571.428571      0.000000  3.142857\n",
              "2019-07-23  562123.333333      0.400000  3.066667\n",
              "2019-07-24  482500.000000      0.500000  2.250000\n",
              "2019-07-25  547800.000000      0.466667  2.466667\n",
              "2019-07-26  594408.333333      0.500000  2.666667\n",
              "2019-07-27  707500.000000      0.000000  4.333333"
            ]
          },
          "metadata": {
            "tags": []
          },
          "execution_count": 182
        }
      ]
    },
    {
      "cell_type": "code",
      "metadata": {
        "id": "EoVWw8TNz4Xj"
      },
      "source": [
        "from statsmodels.tsa.statespace.sarimax import SARIMAX"
      ],
      "execution_count": null,
      "outputs": []
    },
    {
      "cell_type": "code",
      "metadata": {
        "id": "wGJQL6AIxKx_"
      },
      "source": [
        "model = SARIMAX(train['price'],exog=train[['bedrooms']],order=(0,1,5),seasonal=False,seasonal_order=(0,0,0,0),enforce_invertibility=False)"
      ],
      "execution_count": null,
      "outputs": []
    },
    {
      "cell_type": "code",
      "metadata": {
        "id": "FUpv5bINz9UL"
      },
      "source": [
        "fitted_model = model.fit()"
      ],
      "execution_count": null,
      "outputs": []
    },
    {
      "cell_type": "code",
      "metadata": {
        "colab": {
          "base_uri": "https://localhost:8080/",
          "height": 510
        },
        "id": "TP1K8ZKsz_hQ",
        "outputId": "89a1faa4-2562-4d22-ef66-c4b53736493e"
      },
      "source": [
        "fitted_model.summary()"
      ],
      "execution_count": null,
      "outputs": [
        {
          "output_type": "execute_result",
          "data": {
            "text/html": [
              "<table class=\"simpletable\">\n",
              "<caption>SARIMAX Results</caption>\n",
              "<tr>\n",
              "  <th>Dep. Variable:</th>         <td>price</td>      <th>  No. Observations:  </th>    <td>4540</td>   \n",
              "</tr>\n",
              "<tr>\n",
              "  <th>Model:</th>           <td>SARIMAX(0, 1, 5)</td> <th>  Log Likelihood     </th> <td>-59690.414</td>\n",
              "</tr>\n",
              "<tr>\n",
              "  <th>Date:</th>            <td>Tue, 03 Aug 2021</td> <th>  AIC                </th> <td>119394.829</td>\n",
              "</tr>\n",
              "<tr>\n",
              "  <th>Time:</th>                <td>12:04:09</td>     <th>  BIC                </th> <td>119439.772</td>\n",
              "</tr>\n",
              "<tr>\n",
              "  <th>Sample:</th>             <td>02-07-2007</td>    <th>  HQIC               </th> <td>119410.658</td>\n",
              "</tr>\n",
              "<tr>\n",
              "  <th></th>                   <td>- 07-13-2019</td>   <th>                     </th>      <td> </td>    \n",
              "</tr>\n",
              "<tr>\n",
              "  <th>Covariance Type:</th>        <td>opg</td>       <th>                     </th>      <td> </td>    \n",
              "</tr>\n",
              "</table>\n",
              "<table class=\"simpletable\">\n",
              "<tr>\n",
              "      <td></td>        <th>coef</th>     <th>std err</th>      <th>z</th>      <th>P>|z|</th>  <th>[0.025</th>    <th>0.975]</th>  \n",
              "</tr>\n",
              "<tr>\n",
              "  <th>bedrooms</th> <td> 1.581e+05</td> <td> 2684.299</td> <td>   58.894</td> <td> 0.000</td> <td> 1.53e+05</td> <td> 1.63e+05</td>\n",
              "</tr>\n",
              "<tr>\n",
              "  <th>ma.L1</th>    <td>   -0.9650</td> <td>    0.012</td> <td>  -77.417</td> <td> 0.000</td> <td>   -0.989</td> <td>   -0.941</td>\n",
              "</tr>\n",
              "<tr>\n",
              "  <th>ma.L2</th>    <td>   -0.0297</td> <td>    0.024</td> <td>   -1.239</td> <td> 0.216</td> <td>   -0.077</td> <td>    0.017</td>\n",
              "</tr>\n",
              "<tr>\n",
              "  <th>ma.L3</th>    <td>   -0.0044</td> <td>    0.035</td> <td>   -0.126</td> <td> 0.900</td> <td>   -0.073</td> <td>    0.064</td>\n",
              "</tr>\n",
              "<tr>\n",
              "  <th>ma.L4</th>    <td>   -0.0221</td> <td>    0.039</td> <td>   -0.568</td> <td> 0.570</td> <td>   -0.098</td> <td>    0.054</td>\n",
              "</tr>\n",
              "<tr>\n",
              "  <th>ma.L5</th>    <td>    0.0353</td> <td>    0.026</td> <td>    1.355</td> <td> 0.175</td> <td>   -0.016</td> <td>    0.086</td>\n",
              "</tr>\n",
              "<tr>\n",
              "  <th>sigma2</th>   <td> 1.652e+10</td> <td>    0.107</td> <td> 1.54e+11</td> <td> 0.000</td> <td> 1.65e+10</td> <td> 1.65e+10</td>\n",
              "</tr>\n",
              "</table>\n",
              "<table class=\"simpletable\">\n",
              "<tr>\n",
              "  <th>Ljung-Box (L1) (Q):</th>     <td>0.00</td> <th>  Jarque-Bera (JB):  </th> <td>31325202.68</td>\n",
              "</tr>\n",
              "<tr>\n",
              "  <th>Prob(Q):</th>                <td>0.96</td> <th>  Prob(JB):          </th>    <td>0.00</td>    \n",
              "</tr>\n",
              "<tr>\n",
              "  <th>Heteroskedasticity (H):</th> <td>2.25</td> <th>  Skew:              </th>    <td>12.56</td>   \n",
              "</tr>\n",
              "<tr>\n",
              "  <th>Prob(H) (two-sided):</th>    <td>0.00</td> <th>  Kurtosis:          </th>   <td>409.20</td>   \n",
              "</tr>\n",
              "</table><br/><br/>Warnings:<br/>[1] Covariance matrix calculated using the outer product of gradients (complex-step).<br/>[2] Covariance matrix is singular or near-singular, with condition number 5.09e+24. Standard errors may be unstable."
            ],
            "text/plain": [
              "<class 'statsmodels.iolib.summary.Summary'>\n",
              "\"\"\"\n",
              "                               SARIMAX Results                                \n",
              "==============================================================================\n",
              "Dep. Variable:                  price   No. Observations:                 4540\n",
              "Model:               SARIMAX(0, 1, 5)   Log Likelihood              -59690.414\n",
              "Date:                Tue, 03 Aug 2021   AIC                         119394.829\n",
              "Time:                        12:04:09   BIC                         119439.772\n",
              "Sample:                    02-07-2007   HQIC                        119410.658\n",
              "                         - 07-13-2019                                         \n",
              "Covariance Type:                  opg                                         \n",
              "==============================================================================\n",
              "                 coef    std err          z      P>|z|      [0.025      0.975]\n",
              "------------------------------------------------------------------------------\n",
              "bedrooms    1.581e+05   2684.299     58.894      0.000    1.53e+05    1.63e+05\n",
              "ma.L1         -0.9650      0.012    -77.417      0.000      -0.989      -0.941\n",
              "ma.L2         -0.0297      0.024     -1.239      0.216      -0.077       0.017\n",
              "ma.L3         -0.0044      0.035     -0.126      0.900      -0.073       0.064\n",
              "ma.L4         -0.0221      0.039     -0.568      0.570      -0.098       0.054\n",
              "ma.L5          0.0353      0.026      1.355      0.175      -0.016       0.086\n",
              "sigma2      1.652e+10      0.107   1.54e+11      0.000    1.65e+10    1.65e+10\n",
              "===================================================================================\n",
              "Ljung-Box (L1) (Q):                   0.00   Jarque-Bera (JB):          31325202.68\n",
              "Prob(Q):                              0.96   Prob(JB):                         0.00\n",
              "Heteroskedasticity (H):               2.25   Skew:                            12.56\n",
              "Prob(H) (two-sided):                  0.00   Kurtosis:                       409.20\n",
              "===================================================================================\n",
              "\n",
              "Warnings:\n",
              "[1] Covariance matrix calculated using the outer product of gradients (complex-step).\n",
              "[2] Covariance matrix is singular or near-singular, with condition number 5.09e+24. Standard errors may be unstable.\n",
              "\"\"\""
            ]
          },
          "metadata": {
            "tags": []
          },
          "execution_count": 186
        }
      ]
    },
    {
      "cell_type": "code",
      "metadata": {
        "id": "YLiN4_1x0sHR"
      },
      "source": [
        "predictions=fitted_model.predict(len(train),len(train)+len(test)-1,exog=test[['bedrooms']]).rename('SARIMAX')"
      ],
      "execution_count": null,
      "outputs": []
    },
    {
      "cell_type": "code",
      "metadata": {
        "colab": {
          "base_uri": "https://localhost:8080/"
        },
        "id": "HH14GVka05r-",
        "outputId": "45580622-0149-433d-98f9-745d9e397ec4"
      },
      "source": [
        "predictions"
      ],
      "execution_count": null,
      "outputs": [
        {
          "output_type": "execute_result",
          "data": {
            "text/plain": [
              "2019-07-14    687967.283522\n",
              "2019-07-15    654652.548633\n",
              "2019-07-16    601370.397555\n",
              "2019-07-17    586981.875973\n",
              "2019-07-18    592245.587191\n",
              "2019-07-19    706421.416259\n",
              "2019-07-20    695129.301296\n",
              "2019-07-21    668366.253710\n",
              "2019-07-22    649960.841445\n",
              "2019-07-23    637915.918818\n",
              "2019-07-24    508809.404411\n",
              "2019-07-25    543062.153131\n",
              "2019-07-26    574680.075027\n",
              "2019-07-27    838162.757491\n",
              "Freq: D, Name: SARIMAX, dtype: float64"
            ]
          },
          "metadata": {
            "tags": []
          },
          "execution_count": 188
        }
      ]
    },
    {
      "cell_type": "code",
      "metadata": {
        "colab": {
          "base_uri": "https://localhost:8080/",
          "height": 520
        },
        "id": "32BWhjfW07X6",
        "outputId": "033eb729-1041-4218-f225-837e19b12320"
      },
      "source": [
        "predictions.plot(figsize=(13,8),legend=True)\n",
        "test['price'].plot(legend=True);"
      ],
      "execution_count": null,
      "outputs": [
        {
          "output_type": "display_data",
          "data": {
            "image/png": "[encoded data removed]",
            "text/plain": [
              "<Figure size 936x576 with 1 Axes>"
            ]
          },
          "metadata": {
            "tags": [],
            "needs_background": "light"
          }
        }
      ]
    },
    {
      "cell_type": "code",
      "metadata": {
        "id": "PjZuKzu91jQC"
      },
      "source": [
        "from sklearn.metrics import mean_squared_error\n",
        "rmse = mean_squared_error(predictions,test['price'],squared=False)"
      ],
      "execution_count": null,
      "outputs": []
    },
    {
      "cell_type": "code",
      "metadata": {
        "colab": {
          "base_uri": "https://localhost:8080/"
        },
        "id": "DdoCtwt715D7",
        "outputId": "8675c151-61a2-4d52-901a-610015c27c70"
      },
      "source": [
        "rmse"
      ],
      "execution_count": null,
      "outputs": [
        {
          "output_type": "execute_result",
          "data": {
            "text/plain": [
              "59315.29900019868"
            ]
          },
          "metadata": {
            "tags": []
          },
          "execution_count": 191
        }
      ]
    },
    {
      "cell_type": "code",
      "metadata": {
        "colab": {
          "base_uri": "https://localhost:8080/"
        },
        "id": "ZeFphxPv18Av",
        "outputId": "6f397a1f-44b9-4f67-b315-a2e68c368897"
      },
      "source": [
        "df['price'].mean()"
      ],
      "execution_count": null,
      "outputs": [
        {
          "output_type": "execute_result",
          "data": {
            "text/plain": [
              "587596.7015118237"
            ]
          },
          "metadata": {
            "tags": []
          },
          "execution_count": 192
        }
      ]
    },
    {
      "cell_type": "markdown",
      "metadata": {
        "id": "CcNcsezt2ER-"
      },
      "source": [
        "# RMSE 59315 (ABOUT 10% OF MEAN PRICE)"
      ]
    }
  ]
}